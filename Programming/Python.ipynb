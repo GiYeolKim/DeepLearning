{
 "cells": [
  {
   "cell_type": "markdown",
   "metadata": {},
   "source": [
    "# 자료형"
   ]
  },
  {
   "cell_type": "markdown",
   "metadata": {},
   "source": [
    "## 숫자형"
   ]
  },
  {
   "cell_type": "markdown",
   "metadata": {},
   "source": [
    "숫자형이란 숫자 형태로 이루어진 자료형으로 123 같은 정수, 12.34 같은 실수, 8진수와 16진수 같은 것들이 있다."
   ]
  },
  {
   "cell_type": "markdown",
   "metadata": {},
   "source": [
    "### 정수형"
   ]
  },
  {
   "cell_type": "code",
   "execution_count": 5,
   "metadata": {},
   "outputs": [
    {
     "name": "stdout",
     "output_type": "stream",
     "text": [
      "123\n"
     ]
    }
   ],
   "source": [
    "a = 123\n",
    "print(a)"
   ]
  },
  {
   "cell_type": "markdown",
   "metadata": {},
   "source": [
    "### 실수형"
   ]
  },
  {
   "cell_type": "markdown",
   "metadata": {},
   "source": [
    "아래 방식은 컴퓨터식 지수 표현 방식으로 파이썬에서는 'a = 4.24E10', 'a = 4.24e-10'과 같이 표현한다(e와 E 둘 중 어느 것을 사용하더라도 무방하다). 여기서 'a = 4.24E10'는 4.24*10^10을 의미하고, 'a = 4.24e-10'는 4.24*10^-10을 의미한다."
   ]
  },
  {
   "cell_type": "code",
   "execution_count": 6,
   "metadata": {},
   "outputs": [
    {
     "name": "stdout",
     "output_type": "stream",
     "text": [
      "1.2 42400000000.0 4.24e-10\n"
     ]
    }
   ],
   "source": [
    "a = 1.2\n",
    "b = 4.24E10\n",
    "c = 4.24e-10\n",
    "\n",
    "print(a, b, c)"
   ]
  },
  {
   "cell_type": "markdown",
   "metadata": {},
   "source": [
    "### 8진수와 16진수"
   ]
  },
  {
   "cell_type": "markdown",
   "metadata": {},
   "source": [
    "8진수를 만들기 위해서는 숫자가 0o 또는 0O로 시작하면 된다.\n",
    "16진수를 만들기 위해서는 0x로 시작하면 된다."
   ]
  },
  {
   "cell_type": "code",
   "execution_count": 7,
   "metadata": {},
   "outputs": [
    {
     "name": "stdout",
     "output_type": "stream",
     "text": [
      "127\n",
      "2303\n"
     ]
    }
   ],
   "source": [
    "a = 0o177\n",
    "b = 0x8ff\n",
    "print(a)\n",
    "print(b)"
   ]
  },
  {
   "cell_type": "markdown",
   "metadata": {},
   "source": [
    "### 연산"
   ]
  },
  {
   "cell_type": "markdown",
   "metadata": {},
   "source": [
    "/ 연산자는 나눗셈 연산이 수행되며 부동 소수점 형태로 반환된다.  \n",
    "** 연산자는 x**y 일때 x의 y 제곱 연산을 수행한다.  \n",
    "% 연산자는 나눗셈 후 나머지를 반환한다.  \n",
    "// 연산자는 나눗셈 후 몫을 반환한다.  "
   ]
  },
  {
   "cell_type": "code",
   "execution_count": 9,
   "metadata": {},
   "outputs": [
    {
     "name": "stdout",
     "output_type": "stream",
     "text": [
      "7\n",
      "-1\n",
      "12\n",
      "0.75\n",
      "81\n",
      "3\n",
      "0\n"
     ]
    }
   ],
   "source": [
    "a = 3\n",
    "b = 4\n",
    "\n",
    "print(a+b)\n",
    "print(a-b)\n",
    "print(a*b)\n",
    "print(a/b)\n",
    "print(a**b)\n",
    "print(a%b)\n",
    "print(a//b)"
   ]
  },
  {
   "cell_type": "markdown",
   "metadata": {},
   "source": [
    "## 문자열"
   ]
  },
  {
   "cell_type": "markdown",
   "metadata": {},
   "source": [
    "문자열(string)이란 문자, 단어 등으로 구성된 문자들의 집합을 의미한다.  \n",
    "문자열을 만드는 방법은 총 4가지가 있다.  \n",
    "- 큰따옴표로 양쪽 둘러싸기 - \"Hello World\"\n",
    "- 작은따옴표로 양쪽 둘러싸기 - \"Python is fun\"\n",
    "- 큰따옴표 3개를 연속으로 써서 양쪽 둘러싸기 - \"\"\"Life is good\"\"\"\n",
    "- 작은따옴표 3개를 연속으로 써서 양쪽 둘러싸기 - '''Life is too short'''  \n",
    "문자열을 만들어 주는 주인공은 "
   ]
  },
  {
   "cell_type": "code",
   "execution_count": 1,
   "metadata": {},
   "outputs": [
    {
     "name": "stdout",
     "output_type": "stream",
     "text": [
      "Hellow World\n",
      "Hello World\n",
      "Hello World\n",
      "Hello World\n"
     ]
    }
   ],
   "source": [
    "print('Hello World')\n",
    "print(\"Hello World\")\n",
    "print('''Hello World''')\n",
    "print(\"\"\"Hello World\"\"\")"
   ]
  },
  {
   "cell_type": "markdown",
   "metadata": {},
   "source": [
    "문자열 안에도 작은따옴표와 큰따옴표가 필요한 경우가 있다.  \n",
    "- 작은따옴표 이루어진 문자열 안에 큰따옴표를 포함하거나 큰따옴표로 이루어진 문자열 안에 작은따옴표를 포함\n",
    "- 백슬래쉬를 사용하여 문자열 안에 작은따옴표 혹은 큰따옴표를 포함"
   ]
  },
  {
   "cell_type": "code",
   "execution_count": 4,
   "metadata": {},
   "outputs": [
    {
     "name": "stdout",
     "output_type": "stream",
     "text": [
      "Hello' World\n",
      "Hello\" World\n",
      "Hello' World\n",
      "Hello\" World\n"
     ]
    }
   ],
   "source": [
    "print(\"Hello' World\")\n",
    "print('Hello\" World')\n",
    "print(\"Hello\\' World\")\n",
    "print(\"Hello\\\" World\")"
   ]
  },
  {
   "cell_type": "markdown",
   "metadata": {},
   "source": [
    "여러 줄인 문자열을 변수에 대입하고 싶을 때는 연속된 작음따옴표 3개 또는 큰따옴표 3개를 사용하면 된다."
   ]
  },
  {
   "cell_type": "code",
   "execution_count": 5,
   "metadata": {},
   "outputs": [
    {
     "name": "stdout",
     "output_type": "stream",
     "text": [
      "\n",
      "Hello,\n",
      "my name is Bob.\n",
      "\n"
     ]
    }
   ],
   "source": [
    "multiline ='''\n",
    "Hello,\n",
    "my name is Bob.\n",
    "'''\n",
    "\n",
    "print(multiline)"
   ]
  },
  {
   "cell_type": "markdown",
   "metadata": {},
   "source": [
    "Escape code : 프로그래밍할 때 사용할 수 있도록 미리 정의해 둔 문자 조합\n",
    "- \\n : 문자열 안에서 줄을 바꿀 때 사용\n",
    "- \\t : 문자열 사이에 탭 간격을 줄 때 사용\n",
    "- \\\\ : 문자 '\\'을 표현할 때 사용\n",
    "- \\' : 작은따옴표를 표현할 때 사용\n",
    "- \\\" : 큰따옴표를 표현할 때 사용 "
   ]
  },
  {
   "cell_type": "markdown",
   "metadata": {},
   "source": [
    "### 문자열 연산하기"
   ]
  },
  {
   "cell_type": "markdown",
   "metadata": {},
   "source": [
    "파이썬에서는 문자열을 더하거나 곱할 수 있다."
   ]
  },
  {
   "cell_type": "markdown",
   "metadata": {},
   "source": [
    "문자열 더해서 연결하기(concatenation)"
   ]
  },
  {
   "cell_type": "code",
   "execution_count": 6,
   "metadata": {},
   "outputs": [
    {
     "name": "stdout",
     "output_type": "stream",
     "text": [
      "HelloWorld\n"
     ]
    }
   ],
   "source": [
    "head = 'Hello'\n",
    "tail = 'World'\n",
    "print(head + tail)"
   ]
  },
  {
   "cell_type": "markdown",
   "metadata": {},
   "source": [
    "문자열 곱하기"
   ]
  },
  {
   "cell_type": "code",
   "execution_count": 7,
   "metadata": {},
   "outputs": [
    {
     "name": "stdout",
     "output_type": "stream",
     "text": [
      "Hello WorldHello World\n"
     ]
    }
   ],
   "source": [
    "a = 'Hello World'\n",
    "print(a*2)"
   ]
  },
  {
   "cell_type": "markdown",
   "metadata": {},
   "source": [
    "문자열 길이 구하기\n",
    "- 파이썬 기본 내장 함수인 len 함수를 사용하면 문자열 길이를 구할 수 있다."
   ]
  },
  {
   "cell_type": "code",
   "execution_count": 8,
   "metadata": {},
   "outputs": [
    {
     "name": "stdout",
     "output_type": "stream",
     "text": [
      "11\n"
     ]
    }
   ],
   "source": [
    "a = \"Hello World\"\n",
    "print(len(a))"
   ]
  },
  {
   "cell_type": "markdown",
   "metadata": {},
   "source": [
    "### 문자열 인덱싱과 슬라이싱"
   ]
  },
  {
   "cell_type": "markdown",
   "metadata": {},
   "source": [
    "인덱싱(indexing)이란 무엇인가를 가리킨다는 의미이다.  \n",
    "파이썬은 0부터 숫자를 센다.  \n",
    "문자열 변수에 [index]를 사용하면 문자열 안의 특정한 값을 뽑아낼 수 있고, 이를 인덱싱이라 한다."
   ]
  },
  {
   "cell_type": "code",
   "execution_count": 13,
   "metadata": {},
   "outputs": [
    {
     "name": "stdout",
     "output_type": "stream",
     "text": [
      "34\n",
      "L\n",
      "n\n",
      "n\n",
      "L\n"
     ]
    }
   ],
   "source": [
    "a = \"Life is too short, you need Python\"\n",
    "\n",
    "print(len(a))\n",
    "print(a[0])\n",
    "print(a[33])\n",
    "print(a[-1])\n",
    "print(a[-34])"
   ]
  },
  {
   "cell_type": "markdown",
   "metadata": {},
   "source": [
    "슬라이싱(slicing)이란 무엇인가를 잘라낸다는 의미이다.  \n",
    "슬라이싱을 통해 문자열에서 원하는 부분을 뽑아낼 수 있다.  \n",
    "슬라이싱을 할 때는 문자열 변수[시작 번호 : 끝 번호]를 지정하면 되는데, 이때 끝 번호에 해당하는 것은 포함하지 않는다.  \n",
    "슬라이싱을 할 때 시작 번호 혹은 끝 번호를 생략하면 각각 문자열의 처음 혹은 끝을 의미한다.  \n",
    "슬라이싱에서도 인덱싱과 마찬가지로 - 기호를 사용할 수 있다."
   ]
  },
  {
   "cell_type": "code",
   "execution_count": 19,
   "metadata": {},
   "outputs": [
    {
     "name": "stdout",
     "output_type": "stream",
     "text": [
      "Life\n",
      "is\n",
      "you need Python\n",
      "Life is too short\n",
      "Life is too short, you need Python\n",
      "you need\n",
      "you need\n"
     ]
    }
   ],
   "source": [
    "a = \"Life is too short, you need Python\"\n",
    "\n",
    "print(a[0:4])\n",
    "print(a[5:7])\n",
    "print(a[19:])\n",
    "print(a[:17])\n",
    "print(a[:])\n",
    "print(a[19:-7])\n",
    "print(a[-15: -7])"
   ]
  },
  {
   "cell_type": "markdown",
   "metadata": {},
   "source": [
    "파이썬에서 문자열의 요솟값은 바꿀 수 있는 값이 아니기 때문에(immutable) 문자열 자료형은 그 요솟값을 변경할 수 없다.  "
   ]
  },
  {
   "cell_type": "code",
   "execution_count": 20,
   "metadata": {},
   "outputs": [
    {
     "ename": "TypeError",
     "evalue": "'str' object does not support item assignment",
     "output_type": "error",
     "traceback": [
      "\u001b[1;31m---------------------------------------------------------------------------\u001b[0m",
      "\u001b[1;31mTypeError\u001b[0m                                 Traceback (most recent call last)",
      "Cell \u001b[1;32mIn[20], line 2\u001b[0m\n\u001b[0;32m      1\u001b[0m a \u001b[38;5;241m=\u001b[39m \u001b[38;5;124m\"\u001b[39m\u001b[38;5;124mPithon\u001b[39m\u001b[38;5;124m\"\u001b[39m\n\u001b[1;32m----> 2\u001b[0m \u001b[43ma\u001b[49m\u001b[43m[\u001b[49m\u001b[38;5;241;43m1\u001b[39;49m\u001b[43m]\u001b[49m \u001b[38;5;241m=\u001b[39m \u001b[38;5;124m'\u001b[39m\u001b[38;5;124my\u001b[39m\u001b[38;5;124m'\u001b[39m\n\u001b[0;32m      3\u001b[0m \u001b[38;5;28mprint\u001b[39m(a)\n",
      "\u001b[1;31mTypeError\u001b[0m: 'str' object does not support item assignment"
     ]
    }
   ],
   "source": [
    "a = \"Pithon\"\n",
    "a[1] = 'y'\n",
    "print(a)"
   ]
  },
  {
   "cell_type": "markdown",
   "metadata": {},
   "source": [
    "### 문자열 포매팅"
   ]
  },
  {
   "cell_type": "markdown",
   "metadata": {},
   "source": [
    "문자열 안의 특정한 값을 바궈야 할 경우가 있을 때 문자열 포매팅을 사용할 수 있다."
   ]
  },
  {
   "cell_type": "markdown",
   "metadata": {},
   "source": [
    "#### 숫자 바로 대입\n",
    "문자열 안에서 숫자를 넣고 싶은 자리에 %d 문자를 넣어 주고, 삽입할 숫자는 가장 뒤에 % 문자 다음에 써 넣는다."
   ]
  },
  {
   "cell_type": "code",
   "execution_count": 23,
   "metadata": {},
   "outputs": [
    {
     "name": "stdout",
     "output_type": "stream",
     "text": [
      "I eat 3 apples.\n"
     ]
    }
   ],
   "source": [
    "a = \"I eat %d apples.\"%3\n",
    "print(a)"
   ]
  },
  {
   "cell_type": "markdown",
   "metadata": {},
   "source": [
    "#### 문자열 바로 대입\n",
    "문자열 안에서 문자열을 넣고 싶은 자리에 %s 문자를 넣어 주고, 삽입할 문자열은 가장 뒤에 % 문자 다음에 써 넣는다."
   ]
  },
  {
   "cell_type": "code",
   "execution_count": 24,
   "metadata": {},
   "outputs": [
    {
     "name": "stdout",
     "output_type": "stream",
     "text": [
      "I eat five apples.\n"
     ]
    }
   ],
   "source": [
    "a = 'I eat %s apples.'%\"five\"\n",
    "\n",
    "print(a)"
   ]
  },
  {
   "cell_type": "markdown",
   "metadata": {},
   "source": [
    "#### 숫자 값을 나타내는 변수로 대입"
   ]
  },
  {
   "cell_type": "code",
   "execution_count": 25,
   "metadata": {},
   "outputs": [
    {
     "name": "stdout",
     "output_type": "stream",
     "text": [
      "I eat 3 apples.\n"
     ]
    }
   ],
   "source": [
    "number = 3\n",
    "a = 'I eat %d apples.'%number\n",
    "\n",
    "print(a)"
   ]
  },
  {
   "cell_type": "markdown",
   "metadata": {},
   "source": [
    "#### 2개 이상의 값 넣기\n",
    "2개 이상의 값을 넣으려면 마지막 % 다음 괄호 안에 콤마로 구분하여 각각의 값을 넣어주면 된다."
   ]
  },
  {
   "cell_type": "code",
   "execution_count": 26,
   "metadata": {},
   "outputs": [
    {
     "name": "stdout",
     "output_type": "stream",
     "text": [
      "I ate 10 apples. So I was sick for three days.\n"
     ]
    }
   ],
   "source": [
    "number = 10\n",
    "day = 'three'\n",
    "a = \"I ate %d apples. So I was sick for %s days.\"%(number, day)\n",
    "\n",
    "print(a)"
   ]
  },
  {
   "cell_type": "markdown",
   "metadata": {},
   "source": [
    "#### 문자열 포맷 코드\n",
    "- %s : 문자열(string)\n",
    "- %c : 문자 1개(character)\n",
    "- %d : 정수(integer)\n",
    "- %f : 부동 소수(floating-point)"
   ]
  },
  {
   "cell_type": "markdown",
   "metadata": {},
   "source": [
    "#### 문자열 포맷의 장점\n",
    "문자열 포맷팅 연산자 %s는 문자열 뿐만 아니라 정수, 부동 소수점 등 어떤 형태의 값이든 변환해 넣을 수 있다."
   ]
  },
  {
   "cell_type": "code",
   "execution_count": 27,
   "metadata": {},
   "outputs": [
    {
     "name": "stdout",
     "output_type": "stream",
     "text": [
      "I have 3 apples. Apple is 120.5 grams.\n"
     ]
    }
   ],
   "source": [
    "a = \"I have %s apples. Apple is %s grams.\"%(3, 120.50)\n",
    "print(a)"
   ]
  },
  {
   "cell_type": "markdown",
   "metadata": {},
   "source": [
    "#### 포맷 코드와 숫자 함께 사용하기\n",
    "%d, %s 등의 포맷 코드는 문자열 안에 어떤 값을 삽입하기 위해 사용한다.  \n",
    "이 밖에도 포맷 코드를 숫자와 함께 사용하면 더 유용하게 사용할 수 있다. "
   ]
  },
  {
   "cell_type": "markdown",
   "metadata": {},
   "source": [
    "##### 정렬과 공백\n",
    "포맷 코드를 정수와 함께 사용하면 전체 길이가 정수만큼인 문자열 공간에서 대입되는 값을 오른쪽 혹은 왼쪽으로 정렬하고 나머지 공간은 공백으로 남겨둔다."
   ]
  },
  {
   "cell_type": "code",
   "execution_count": 35,
   "metadata": {},
   "outputs": [
    {
     "name": "stdout",
     "output_type": "stream",
     "text": [
      "        hi\n",
      "hi        \n",
      "     10000 won\n",
      "10000      won\n"
     ]
    }
   ],
   "source": [
    "a = \"%10s\"%\"hi\"\n",
    "b = \"%-10s\"%'hi'\n",
    "c = \"%10s won\"%'10000'\n",
    "d = \"%-10s won\"%'10000'\n",
    "print(a)\n",
    "print(b)\n",
    "print(c)\n",
    "print(d)"
   ]
  },
  {
   "cell_type": "markdown",
   "metadata": {},
   "source": [
    "##### 소수점 표현하기\n",
    "소수점을 특정 자리 수까지만 표현하고 싶은 경우에는 '.'을 사용하면 된다."
   ]
  },
  {
   "cell_type": "code",
   "execution_count": 50,
   "metadata": {},
   "outputs": [
    {
     "name": "stdout",
     "output_type": "stream",
     "text": [
      "3.1416\n",
      "    3.1416\n",
      "3.1416\n"
     ]
    }
   ],
   "source": [
    "a = \"%0.4f\"%3.141592\n",
    "b = \"%10.4f\"%3.141592\n",
    "c = \"%.4f\"%3.141592\n",
    "\n",
    "print(a)\n",
    "print(b)\n",
    "print(c)"
   ]
  },
  {
   "cell_type": "markdown",
   "metadata": {},
   "source": [
    "#### format 함수를 사용한 포매팅\n",
    "문자열의 format 함수를 사용하면 더 편리하게 문자열 포맷을 지정할 수 있다.  \n",
    "{} 안에 인덱스를 통해 format 함수의 입력값을 지정할 수 있다.  \n",
    "{name} 형태를 사용하는 경우 format 함수에는 반드시 name=value와 가은 형태의 입력값이 있어야만 한다."
   ]
  },
  {
   "cell_type": "code",
   "execution_count": 47,
   "metadata": {},
   "outputs": [
    {
     "name": "stdout",
     "output_type": "stream",
     "text": [
      "I eat 3 apples.\n",
      "I eat three apples.\n",
      "I eat 3 apples.\n",
      "I eat 3 apples in three days.\n",
      "I eat three apples in 3 days.\n",
      "I eat 3 apples in three days.\n"
     ]
    }
   ],
   "source": [
    "number = 3\n",
    "days = \"three\"\n",
    "a = \"I eat {0} apples.\".format(3)\n",
    "b = \"I eat {0} apples.\".format(\"three\")\n",
    "c = \"I eat {0} apples.\".format(number)\n",
    "d = \"I eat {0} apples in {1} days.\".format(number, days)\n",
    "e = \"I eat {1} apples in {0} days.\".format(number, days)\n",
    "f = \"I eat {number} apples in {days} days.\".format(number=3, days='three')\n",
    "\n",
    "print(a)\n",
    "print(b)\n",
    "print(c)\n",
    "print(d)\n",
    "print(e)\n",
    "print(f)"
   ]
  },
  {
   "cell_type": "markdown",
   "metadata": {},
   "source": [
    "포매팅 연산자 같이 format 함수를 통해 왼쪽, 오른쪽 정렬을 할 수 있고, 소수점을 표현할 수 있다."
   ]
  },
  {
   "cell_type": "code",
   "execution_count": 51,
   "metadata": {},
   "outputs": [
    {
     "name": "stdout",
     "output_type": "stream",
     "text": [
      "hi        \n",
      "        hi\n",
      "hi        \n",
      "        hi\n",
      "    hi    \n",
      "3.1416\n",
      "    3.1416\n"
     ]
    }
   ],
   "source": [
    "a = \"{0:<10}\".format('hi')\n",
    "b = \"{0:>10}\".format('hi')\n",
    "c = \"{a:<10}\".format(a='hi')\n",
    "d = \"{a:>10}\".format(a='hi')\n",
    "e = \"{a:^10}\".format(a='hi')\n",
    "f = \"{0:.4f}\".format(3.141592)\n",
    "g = \"{0:10.4f}\".format(3.141592)\n",
    "\n",
    "print(a)\n",
    "print(b)\n",
    "print(c)\n",
    "print(d)\n",
    "print(e)\n",
    "print(f)\n",
    "print(g)"
   ]
  },
  {
   "cell_type": "markdown",
   "metadata": {},
   "source": [
    "#### f 문자열 포매팅\n",
    "문자열 앞에 f 접두사를 붙이면 f 문자열 포매팅 기능을 사용할 수 있다.  \n",
    "f 문자열 포매팅은 변수 값을 생성한 후에 그 값을 참조할 수 있다. "
   ]
  },
  {
   "cell_type": "code",
   "execution_count": 54,
   "metadata": {},
   "outputs": [
    {
     "name": "stdout",
     "output_type": "stream",
     "text": [
      "My name is giyeol, age is 30.\n"
     ]
    }
   ],
   "source": [
    "name = 'giyeol'\n",
    "age = 30\n",
    "\n",
    "print(f'My name is {name}, age is {age}.')"
   ]
  },
  {
   "cell_type": "markdown",
   "metadata": {},
   "source": [
    "f 문자열 포매팅은 표현식을 지원한다.  \n",
    "표현식이란 문자열 안에서 변수와 +,- 와 같은 수식을 함께 사용하는 것을 말한다."
   ]
  },
  {
   "cell_type": "code",
   "execution_count": 55,
   "metadata": {},
   "outputs": [
    {
     "name": "stdout",
     "output_type": "stream",
     "text": [
      "I am 31 years old.\n"
     ]
    }
   ],
   "source": [
    "age = 30\n",
    "print(f'I am {age+1} years old.')"
   ]
  },
  {
   "cell_type": "markdown",
   "metadata": {},
   "source": [
    "f 문자열 포매팅은 딕셔너리도 사용할 수 있다."
   ]
  },
  {
   "cell_type": "code",
   "execution_count": 56,
   "metadata": {},
   "outputs": [
    {
     "name": "stdout",
     "output_type": "stream",
     "text": [
      "My name is giyeol and I'm 30 years old.\n"
     ]
    }
   ],
   "source": [
    "d = {'name' : 'giyeol', 'age': 30}\n",
    "print(f'My name is {d[\"name\"]} and I\\'m {d[\"age\"]} years old.')"
   ]
  },
  {
   "cell_type": "markdown",
   "metadata": {},
   "source": [
    "f 문자열도 정렬을 할 수 있다."
   ]
  },
  {
   "cell_type": "code",
   "execution_count": 62,
   "metadata": {},
   "outputs": [
    {
     "name": "stdout",
     "output_type": "stream",
     "text": [
      "hi        \n",
      "        hi\n"
     ]
    }
   ],
   "source": [
    "print(f'{\"hi\":<10}')\n",
    "print(f'{\"hi\":>10}')"
   ]
  },
  {
   "cell_type": "markdown",
   "metadata": {},
   "source": [
    "### 문자열 관련 함수\n",
    "문자열 자료형은 자체적으로 문자열 내장 함수를 가지고 있다.   \n",
    "이 내장 함수를 사용하려면 문자열 변수 이름 뒤에 '.'을 붙인 다음 함수 이름을 쓰면 된다."
   ]
  },
  {
   "cell_type": "markdown",
   "metadata": {},
   "source": [
    "#### 문자 개수 세기\n",
    "count 함수를 사용ㅇ하면 문자열 중 특정 문자의 개수를 반환한다."
   ]
  },
  {
   "cell_type": "code",
   "execution_count": 67,
   "metadata": {},
   "outputs": [
    {
     "name": "stdout",
     "output_type": "stream",
     "text": [
      "2\n"
     ]
    }
   ],
   "source": [
    "a = 'hobby'\n",
    "print(a.count('b'))"
   ]
  },
  {
   "cell_type": "markdown",
   "metadata": {},
   "source": [
    "#### 위치 알려주기\n",
    "find 함수는 문자열 중 특정 문자가 처음으로 나온 위치를 반환하고, 찾는 문자가 없으면 -1을 반환한다.\n",
    "index 함수는 문자열 중 특정 문자가 맨 처음으로 나온 위치를 반환하고, 찾는 문자가 없으면 오류를 발생시킨다."
   ]
  },
  {
   "cell_type": "code",
   "execution_count": 68,
   "metadata": {},
   "outputs": [
    {
     "name": "stdout",
     "output_type": "stream",
     "text": [
      "14\n",
      "14\n"
     ]
    }
   ],
   "source": [
    "a = 'Python is the best choice'\n",
    "\n",
    "print(a.find('b'))\n",
    "print(a.index('b'))"
   ]
  },
  {
   "cell_type": "markdown",
   "metadata": {},
   "source": [
    "#### 문자열 삽입\n",
    "join 함수는 문자열의 각각의 문자 사이에 특정 문자를 삽입한다.  \n",
    "join 함수는 문자열, 리스트, 튜플에도 사용된다,"
   ]
  },
  {
   "cell_type": "code",
   "execution_count": 72,
   "metadata": {},
   "outputs": [
    {
     "name": "stdout",
     "output_type": "stream",
     "text": [
      "a.b.c.d\n",
      "a.b.c.d\n"
     ]
    }
   ],
   "source": [
    "print(\".\".join('abcd'))\n",
    "print(\".\".join(['a','b','c','d']))"
   ]
  },
  {
   "cell_type": "markdown",
   "metadata": {},
   "source": [
    "#### 소문자 <-> 대문자로 바꾸기\n",
    "upper 함수는 소문자를 대문자로 바꿔준다. \n",
    "lower 함수는 대문자를 소문자로 바꿔준다."
   ]
  },
  {
   "cell_type": "code",
   "execution_count": 73,
   "metadata": {},
   "outputs": [
    {
     "name": "stdout",
     "output_type": "stream",
     "text": [
      "hi\n",
      "HI\n"
     ]
    }
   ],
   "source": [
    "print('HI'.lower())\n",
    "print('hi'.upper())"
   ]
  },
  {
   "cell_type": "markdown",
   "metadata": {},
   "source": [
    "#### 왼쪽 공백 지우기\n",
    "strip 함수는 문자열 양쪽에 있는 한 칸 이상의 연속된 공백을 모두 지운다.\n",
    "lstrip 함수는 문자열 중 가장 왼쪽에 있는 한 칸 이상의 연속된 공백들을 모두 지운다.  \n",
    "rstrip 함수는 문자열 중 가장 오른쪽에 있는 한 칸 이상의 연속된 공백들을 모두 지운다."
   ]
  },
  {
   "cell_type": "code",
   "execution_count": 76,
   "metadata": {},
   "outputs": [
    {
     "name": "stdout",
     "output_type": "stream",
     "text": [
      "hi\n",
      "hi\n",
      "hi\n"
     ]
    }
   ],
   "source": [
    "print('     hi       '.strip())\n",
    "print('    hi'.lstrip())\n",
    "print('hi       '.rstrip())"
   ]
  },
  {
   "cell_type": "markdown",
   "metadata": {},
   "source": [
    "#### 문자열 바꾸기\n",
    "replace 함수는 문자열 안의 특정한 값을 다른 값으로 치환해준다."
   ]
  },
  {
   "cell_type": "code",
   "execution_count": 77,
   "metadata": {},
   "outputs": [
    {
     "name": "stdout",
     "output_type": "stream",
     "text": [
      "jello world\n"
     ]
    }
   ],
   "source": [
    "a = 'hello world'\n",
    "b = a.replace('h', 'j')\n",
    "print(b)"
   ]
  },
  {
   "cell_type": "markdown",
   "metadata": {},
   "source": [
    "#### 문자열 나누기\n",
    "split 함수는 () 안에 아무 값도 넣어주지 않으면 공백(스페이스, 탭, 엔터)를 기준으로 문자열을 나눈다.  \n",
    "만약 () 안에 특정 값이 있을 경우 특정 값을 구분자로 해서 문자열을 나눠주고 특정 값은 결과에 포함되지 않는다."
   ]
  },
  {
   "cell_type": "code",
   "execution_count": 79,
   "metadata": {},
   "outputs": [
    {
     "name": "stdout",
     "output_type": "stream",
     "text": [
      "['Hello', 'World']\n",
      "['Hell', ' W', 'rld']\n"
     ]
    }
   ],
   "source": [
    "a = 'Hello World'\n",
    "print(a.split())\n",
    "print(a.split('o'))"
   ]
  },
  {
   "cell_type": "markdown",
   "metadata": {},
   "source": [
    "## 리스트"
   ]
  },
  {
   "cell_type": "markdown",
   "metadata": {},
   "source": [
    "### 리스트 생성"
   ]
  },
  {
   "cell_type": "markdown",
   "metadata": {},
   "source": [
    "리스트를 사용하면 다양한 숫자, 문자열 모음을 표현할 수 있다.  \n",
    "리스트를 만들 때는 대괄호 []로 감싸주고 각 요솟값은 ','로 구분해준다.  \n",
    "리스트는 아무것도 포함하지 않는 빈 리스트일 수도 있고 숫자, 문자열, 리스트 자체 등 어떠한 자료형이더라도 요솟값으로 가질 수 있다.  "
   ]
  },
  {
   "cell_type": "code",
   "execution_count": 81,
   "metadata": {},
   "outputs": [
    {
     "name": "stdout",
     "output_type": "stream",
     "text": [
      "[1, 3, 5, 7, 9]\n"
     ]
    }
   ],
   "source": [
    "odd = [1,3,5,7,9]\n",
    "print(odd)"
   ]
  },
  {
   "cell_type": "code",
   "execution_count": 82,
   "metadata": {},
   "outputs": [
    {
     "name": "stdout",
     "output_type": "stream",
     "text": [
      "[]\n",
      "[1, 2, 3]\n",
      "['Life', 'is', 'good', '.']\n",
      "[1, 2, 'Life', 'good']\n",
      "['Life', 'is', ['good', '.']]\n"
     ]
    }
   ],
   "source": [
    "a = []\n",
    "b = [1,2,3]\n",
    "c = ['Life', 'is', 'good', '.']\n",
    "d = [1,2, 'Life', 'good']\n",
    "e = ['Life', 'is', ['good', '.']]\n",
    "\n",
    "print(a)\n",
    "print(b)\n",
    "print(c)\n",
    "print(d)\n",
    "print(e)"
   ]
  },
  {
   "cell_type": "markdown",
   "metadata": {},
   "source": [
    "### 리스트의 인덱싱과 슬라이싱\n",
    "리스트도 문자열처럼 인덱싱과 슬라이싱이 가능하다."
   ]
  },
  {
   "cell_type": "code",
   "execution_count": 83,
   "metadata": {},
   "outputs": [
    {
     "name": "stdout",
     "output_type": "stream",
     "text": [
      "1\n",
      "3\n",
      "3\n",
      "['Life', 'is', ['good', '.']]\n",
      "Life\n",
      "['good', '.']\n",
      "good\n"
     ]
    }
   ],
   "source": [
    "a = [1,2,3]\n",
    "b = ['Life', 'is', ['good', '.']]\n",
    "\n",
    "print(a[0])\n",
    "print(a[-1])\n",
    "print(a[0]+a[1])\n",
    "print(b)\n",
    "print(b[0])\n",
    "print(b[-1])\n",
    "print(b[-1][0])"
   ]
  },
  {
   "cell_type": "code",
   "execution_count": 87,
   "metadata": {},
   "outputs": [
    {
     "name": "stdout",
     "output_type": "stream",
     "text": [
      "[1, 2, 3]\n",
      "[1, 2, 3]\n",
      "[1, 2, 3, 4, 5]\n",
      "['is', ['good', '.']]\n",
      "['good']\n"
     ]
    }
   ],
   "source": [
    "a = [1,2,3,4,5]\n",
    "b = ['Life', 'is', ['good', '.']]\n",
    "\n",
    "print(a[0:3])\n",
    "print(a[:3])\n",
    "print(a[:])\n",
    "print(b[1:])\n",
    "print(b[2][:1])"
   ]
  },
  {
   "cell_type": "markdown",
   "metadata": {},
   "source": [
    "### 리스트 연산하기\n",
    "리스트는 문자열과 마찬가지로 + 기호를 통해 리스트를 concatenate 할 수 있고, * 기호를 사용하여 반복할 수 있다.  "
   ]
  },
  {
   "cell_type": "code",
   "execution_count": 94,
   "metadata": {},
   "outputs": [
    {
     "name": "stdout",
     "output_type": "stream",
     "text": [
      "[1, 2, 3, '4', '5', '6']\n",
      "['4', '5', '6', '4', '5', '6', '4', '5', '6']\n",
      "5hi\n",
      "3\n"
     ]
    }
   ],
   "source": [
    "a = [1,2,3]\n",
    "b = ['4','5','6']\n",
    "\n",
    "print(a+b)\n",
    "print(b*3)\n",
    "print(b[1]+'hi')\n",
    "print(len(a))"
   ]
  },
  {
   "cell_type": "markdown",
   "metadata": {},
   "source": [
    "### 리스트 수정과 삭제\n",
    "리스트는 값을 수정하거나 삭제할 수 있다.   \n",
    "리스트에서 인덱스를 사용하면 특정 요솟값을 변경할 수 있다.  \n",
    "del 함수를 사용하면 특정 요솟값을 삭제할 수 있고, 슬라이싱을 통해 요소 여러 개를 한꺼번에 삭제할 수 있다.  \n",
    "del 함수는 파이썬이 자체적으로 가지고 있는 삭제 함수이며 (del 객체)로 사용할 수 있다.  \n",
    "이때 객체는 파이썬에서 사용되는 모든 자료형을 의미한다.  "
   ]
  },
  {
   "cell_type": "code",
   "execution_count": 91,
   "metadata": {},
   "outputs": [
    {
     "name": "stdout",
     "output_type": "stream",
     "text": [
      "[1, 2, 4]\n"
     ]
    }
   ],
   "source": [
    "a = [1,2,3]\n",
    "a[2] = 4\n",
    "print(a)"
   ]
  },
  {
   "cell_type": "code",
   "execution_count": 98,
   "metadata": {},
   "outputs": [
    {
     "name": "stdout",
     "output_type": "stream",
     "text": [
      "[1, 2, 5, 6]\n"
     ]
    }
   ],
   "source": [
    "a = [1,2,3,4,5,6]\n",
    "del a[2:4]\n",
    "print(a)"
   ]
  },
  {
   "cell_type": "markdown",
   "metadata": {},
   "source": [
    "### 리스트 관련 함수\n",
    "문자열과 마찬가지로 리스트도 변수 이름 뒤에 '.'을 붙여서 여러 가지 리스트 관련 함수를 사용할 수 있다."
   ]
  },
  {
   "cell_type": "markdown",
   "metadata": {},
   "source": [
    "#### 리스트에 요소 추가\n",
    "append 함수는 리스트의 제일 마지막에 값을 추가한다.  \n",
    "값을 추가할 때는 어떠한 자료형도 추가할 수 있다.  \n",
    "append 함수는 리스트에 원소를 추가하는데, append 함수는 원본 리스트를 변경하고 반환 값이 없다."
   ]
  },
  {
   "cell_type": "code",
   "execution_count": 102,
   "metadata": {},
   "outputs": [
    {
     "name": "stdout",
     "output_type": "stream",
     "text": [
      "[1, 2, 3, 4]\n",
      "None\n"
     ]
    }
   ],
   "source": [
    "a = [1,2,3]\n",
    "b = a.append(4)\n",
    "print(a)\n",
    "print(b)"
   ]
  },
  {
   "cell_type": "markdown",
   "metadata": {},
   "source": [
    "#### 리스트 정렬\n",
    "sort 함수는 리스트의 요소를 순서대로 정렬해준다.  \n",
    "sort 함수도 원본 리스트를 변경하고 반환 값이 없다."
   ]
  },
  {
   "cell_type": "code",
   "execution_count": 106,
   "metadata": {},
   "outputs": [
    {
     "name": "stdout",
     "output_type": "stream",
     "text": [
      "[1, 2, 3, 4]\n",
      "None\n"
     ]
    }
   ],
   "source": [
    "a = [1,2,3,4]\n",
    "b = a.sort()\n",
    "print(a)\n",
    "print(b)"
   ]
  },
  {
   "cell_type": "markdown",
   "metadata": {},
   "source": [
    "#### 리스트 뒤집기\n",
    "reverse() 함수는 리스트를 역순으로 뒤집어 준다.  \n",
    "이때 요소들을 순서대로 정렬한 다음 역순으로 정렬하는 것이 아니라 현재의 리스트를 거꾸로 뒤집는다.  \n",
    "reverse() 함수도 원본 리스트를 변경하고 반환 값이 없다."
   ]
  },
  {
   "cell_type": "code",
   "execution_count": 109,
   "metadata": {},
   "outputs": [
    {
     "name": "stdout",
     "output_type": "stream",
     "text": [
      "['b', 'd', 'c', 'a']\n"
     ]
    }
   ],
   "source": [
    "a = ['a', 'c', 'd', 'b']\n",
    "a.reverse()\n",
    "\n",
    "print(a)"
   ]
  },
  {
   "cell_type": "markdown",
   "metadata": {},
   "source": [
    "#### 위치 반환\n",
    "index(x) 함수는 리스트에 x가 있으면 x의 인덱스를 반환한다.  \n",
    "만약 리스트에 x가 존재하지 않는다면 오류(ValueError)가 발생한다."
   ]
  },
  {
   "cell_type": "code",
   "execution_count": 110,
   "metadata": {},
   "outputs": [
    {
     "name": "stdout",
     "output_type": "stream",
     "text": [
      "2\n"
     ]
    }
   ],
   "source": [
    "a = [1,2,3,4,5]\n",
    "b = a.index(3)\n",
    "print(b)"
   ]
  },
  {
   "cell_type": "markdown",
   "metadata": {},
   "source": [
    "#### 리스트에 요소 삽입\n",
    "insert(a,b) 함수는 리스트의 a 번째 위치에 b를 삽입한다.  \n",
    "insert(a,b) 함수는 원본 리스트를 변경하여 반환 값이 없다."
   ]
  },
  {
   "cell_type": "code",
   "execution_count": 112,
   "metadata": {},
   "outputs": [
    {
     "name": "stdout",
     "output_type": "stream",
     "text": [
      "[1, 2, 3, 'b', 4, 5]\n",
      "None\n"
     ]
    }
   ],
   "source": [
    "a = [1,2,3,4,5]\n",
    "b = a.insert(3, 'b')\n",
    "\n",
    "print(a)\n",
    "print(b)"
   ]
  },
  {
   "cell_type": "markdown",
   "metadata": {},
   "source": [
    "#### 리스트 요소 제거\n",
    "remove(x) 함수는 리스트에서 첫 번째로 나오는 x를 삭제한다.  \n",
    "리스트에 x가 2개 이상인 경우에도 첫 번째 x만 삭제한다.  "
   ]
  },
  {
   "cell_type": "code",
   "execution_count": 113,
   "metadata": {},
   "outputs": [
    {
     "name": "stdout",
     "output_type": "stream",
     "text": [
      "[1, 2, 3, 3, 4, 5]\n"
     ]
    }
   ],
   "source": [
    "a = [1,2,3,3,3,4,5]\n",
    "a.remove(3)\n",
    "\n",
    "print(a)"
   ]
  },
  {
   "cell_type": "markdown",
   "metadata": {},
   "source": [
    "#### 리스트의 요소 끄집어내기\n",
    "pop() 함수는 리스트의 맨 마지막 요소를 반환하고 해당 요소는 삭제한다.  "
   ]
  },
  {
   "cell_type": "code",
   "execution_count": 114,
   "metadata": {},
   "outputs": [
    {
     "name": "stdout",
     "output_type": "stream",
     "text": [
      "[1, 2, 3, 4]\n",
      "5\n"
     ]
    }
   ],
   "source": [
    "a = [1,2,3,4,5]\n",
    "b = a.pop()\n",
    "\n",
    "print(a)\n",
    "print(b)"
   ]
  },
  {
   "cell_type": "markdown",
   "metadata": {},
   "source": [
    "#### 리스트에 포함된 요소 x의 개수 세기\n",
    "count(x) 함수는 리스트 안에 x가 몇 개 있는지 조사하고 그 개수를 반환한다."
   ]
  },
  {
   "cell_type": "code",
   "execution_count": 115,
   "metadata": {},
   "outputs": [
    {
     "name": "stdout",
     "output_type": "stream",
     "text": [
      "3\n"
     ]
    }
   ],
   "source": [
    "a = [1,2,3,4,4,4,5]\n",
    "b = a.count(4)\n",
    "\n",
    "print(b)"
   ]
  },
  {
   "cell_type": "markdown",
   "metadata": {},
   "source": [
    "#### 리스트 확장\n",
    "extend(x) 함수에서 x는 리스트만 올 수 있으며 원래의 리스트에 x 리스트를 더하게 된다. \n",
    "extend(x) 함수는 원본 리스트에 새로운 리스트를 더하고 반환 값은 없다. \n",
    "extend(x) 함수는 리스트 간의 덧셈 연산과 동일하다."
   ]
  },
  {
   "cell_type": "code",
   "execution_count": 118,
   "metadata": {},
   "outputs": [
    {
     "name": "stdout",
     "output_type": "stream",
     "text": [
      "[1, 2, 3, 4, 5, 6]\n",
      "[4, 5, 6]\n",
      "None\n"
     ]
    }
   ],
   "source": [
    "a = [1,2,3]\n",
    "b = [4,5,6]\n",
    "c = a.extend(b)\n",
    "\n",
    "print(a)\n",
    "print(b)\n",
    "print(c)"
   ]
  },
  {
   "cell_type": "markdown",
   "metadata": {},
   "source": [
    "## 튜플 자료형"
   ]
  },
  {
   "cell_type": "markdown",
   "metadata": {},
   "source": [
    "튜플(tuple)은 리스트와 거의 유사하지만 다음과 같은 점이 다르다.\n",
    "- 리스트는 []으로 둘러싸지만 튜플은 ()으로 둘러싼다.\n",
    "- 리스트는 그 값의 생성, 삭제, 수정이 가능하지만 튜플은 그 값을 바꿀 수 없다.\n",
    "\n",
    "튜플과 리스트의 가장 큰 차이는 값을 변화시킬 수 있는가 여부이다.  \n",
    "리스트의 항목 값은 변화가 가능하고 튜플의 항목 값은 변화가 불가능하기 때문에 프로그램이 실행되는 동안 그 값이 항상 변하기 않기를 바란다면 튜플을 사용하면 된다.  \n",
    "\n",
    "튜플은 1개의 요소만을 가질 때는 요소 뒤에 ','를 반드시 붙여야 한다.  \n",
    "튜플을 표현할 때는 괄호 ()를 생략해도 무방하다.  \n",
    "\n"
   ]
  },
  {
   "cell_type": "code",
   "execution_count": 120,
   "metadata": {},
   "outputs": [
    {
     "name": "stdout",
     "output_type": "stream",
     "text": [
      "()\n",
      "(1, 2, 3)\n",
      "('a', 'b', 'c')\n",
      "(1, 2, 3)\n",
      "('a', 'b', ('ab', 'cd'))\n"
     ]
    }
   ],
   "source": [
    "t1 = ()\n",
    "t2 = (1,)\n",
    "t3 = ('a', 'b', 'c')\n",
    "t4 = 1,2,3\n",
    "t5 = ('a', 'b', ('ab', 'cd'))\n",
    "\n",
    "print(t1)\n",
    "print(t2)\n",
    "print(t3)\n",
    "print(t4)\n",
    "print(t5)"
   ]
  },
  {
   "cell_type": "code",
   "execution_count": 121,
   "metadata": {},
   "outputs": [
    {
     "ename": "TypeError",
     "evalue": "'tuple' object doesn't support item deletion",
     "output_type": "error",
     "traceback": [
      "\u001b[1;31m---------------------------------------------------------------------------\u001b[0m",
      "\u001b[1;31mTypeError\u001b[0m                                 Traceback (most recent call last)",
      "Cell \u001b[1;32mIn[121], line 2\u001b[0m\n\u001b[0;32m      1\u001b[0m t1 \u001b[38;5;241m=\u001b[39m (\u001b[38;5;241m1\u001b[39m,\u001b[38;5;241m2\u001b[39m, \u001b[38;5;124m'\u001b[39m\u001b[38;5;124ma\u001b[39m\u001b[38;5;124m'\u001b[39m, \u001b[38;5;124m'\u001b[39m\u001b[38;5;124mb\u001b[39m\u001b[38;5;124m'\u001b[39m)\n\u001b[1;32m----> 2\u001b[0m \u001b[38;5;28;01mdel\u001b[39;00m t1[\u001b[38;5;241m0\u001b[39m]\n",
      "\u001b[1;31mTypeError\u001b[0m: 'tuple' object doesn't support item deletion"
     ]
    }
   ],
   "source": [
    "t1 = (1,2, 'a', 'b')\n",
    "del t1[0]"
   ]
  },
  {
   "cell_type": "code",
   "execution_count": 122,
   "metadata": {},
   "outputs": [
    {
     "ename": "TypeError",
     "evalue": "'tuple' object does not support item assignment",
     "output_type": "error",
     "traceback": [
      "\u001b[1;31m---------------------------------------------------------------------------\u001b[0m",
      "\u001b[1;31mTypeError\u001b[0m                                 Traceback (most recent call last)",
      "Cell \u001b[1;32mIn[122], line 2\u001b[0m\n\u001b[0;32m      1\u001b[0m t1 \u001b[38;5;241m=\u001b[39m (\u001b[38;5;241m1\u001b[39m,\u001b[38;5;241m2\u001b[39m,\u001b[38;5;124m'\u001b[39m\u001b[38;5;124ma\u001b[39m\u001b[38;5;124m'\u001b[39m,\u001b[38;5;124m'\u001b[39m\u001b[38;5;124mb\u001b[39m\u001b[38;5;124m'\u001b[39m)\n\u001b[1;32m----> 2\u001b[0m \u001b[43mt1\u001b[49m\u001b[43m[\u001b[49m\u001b[38;5;241;43m0\u001b[39;49m\u001b[43m]\u001b[49m \u001b[38;5;241m=\u001b[39m \u001b[38;5;241m3\u001b[39m\n",
      "\u001b[1;31mTypeError\u001b[0m: 'tuple' object does not support item assignment"
     ]
    }
   ],
   "source": [
    "t1 = (1,2,'a','b')\n",
    "t1[0] = 3"
   ]
  },
  {
   "cell_type": "markdown",
   "metadata": {},
   "source": [
    "### 튜플 다루기\n",
    "튜플은 값을 변화시킬 수 없다는 점만 제외하면 리스트와 완전히 동일하다."
   ]
  },
  {
   "cell_type": "code",
   "execution_count": 125,
   "metadata": {},
   "outputs": [
    {
     "name": "stdout",
     "output_type": "stream",
     "text": [
      "1\n",
      "(1, 2, 'a')\n",
      "(2, 'a')\n",
      "(1, 2, 'a', 'b', 1, 2, 3, 4, 5)\n",
      "(1, 2, 'a', 'b', 1, 2, 'a', 'b')\n",
      "4\n"
     ]
    }
   ],
   "source": [
    "t1 = (1,2,'a','b')\n",
    "t2 = 1,2,3,4,5\n",
    "print(t1[0])\n",
    "print(t1[:3])\n",
    "print(t1[1:3])\n",
    "print(t1+t2)\n",
    "print(t1*2)\n",
    "print(len(t1))"
   ]
  },
  {
   "cell_type": "markdown",
   "metadata": {},
   "source": [
    "## 딕셔너리 자료형"
   ]
  },
  {
   "cell_type": "markdown",
   "metadata": {},
   "source": [
    "딕셔너리란 대응 관계를 나타내는 자료형으로 Key와 Value를 한 쌍으로 가진다.  \n",
    "딕셔너리는 리스트나 튜플처럼 순차적으로 해당 요솟값을 구하지 않고 Key를 통해 Value를 얻는다.  \n",
    "딕셔너리의 Key는 고유한 값이므로 중복된 Key를 사용하면 하나를 제외한 나머지 Key 값들은 모두 무시된다.  \n",
    "딕셔너리의 Key에는 변하지 않는(immutable) 값만 사용할 수 있기 때문에 튜플은 사용할 수 있지만 리스트는 사용할 수 없다. "
   ]
  },
  {
   "cell_type": "markdown",
   "metadata": {},
   "source": [
    "### 딕셔너리 생성\n",
    "딕셔너리는 {Key1:Value1, Key2:Value2, Key3:Value3, ...}과 같이 생성한다.  "
   ]
  },
  {
   "cell_type": "code",
   "execution_count": 126,
   "metadata": {},
   "outputs": [
    {
     "name": "stdout",
     "output_type": "stream",
     "text": [
      "{'name': 'giyeol', 'age': 21, 'hobby': ['soccer', 'game']}\n"
     ]
    }
   ],
   "source": [
    "dic = {'name': 'giyeol', 'age': 21, 'hobby': ['soccer', 'game']}\n",
    "print(dic)"
   ]
  },
  {
   "cell_type": "markdown",
   "metadata": {},
   "source": [
    "### 딕셔너리 쌍 추가, 삭제하기"
   ]
  },
  {
   "cell_type": "code",
   "execution_count": 127,
   "metadata": {},
   "outputs": [
    {
     "name": "stdout",
     "output_type": "stream",
     "text": [
      "{'name': 'giyeol', 'age': 21, 'hobby': ['soccer', 'game'], 'address': 'South Korea'}\n"
     ]
    }
   ],
   "source": [
    "dic = {'name': 'giyeol', 'age': 21, 'hobby': ['soccer', 'game']}\n",
    "dic['address'] = 'South Korea'\n",
    "\n",
    "print(dic)"
   ]
  },
  {
   "cell_type": "code",
   "execution_count": 128,
   "metadata": {},
   "outputs": [
    {
     "name": "stdout",
     "output_type": "stream",
     "text": [
      "{'age': 21, 'hobby': ['soccer', 'game']}\n"
     ]
    }
   ],
   "source": [
    "dic = {'name': 'giyeol', 'age': 21, 'hobby': ['soccer', 'game']}\n",
    "del dic['name']\n",
    "\n",
    "print(dic)"
   ]
  },
  {
   "cell_type": "markdown",
   "metadata": {},
   "source": [
    "### 딕셔너리를 사용하는 방법\n",
    "리스트, 튜플, 문자열은 요솟값을 얻을 때 인덱싱이나 슬라이싱을 사용한다.  \n",
    "딕셔너리는 Key를 사용해서 Value를 얻을 수 있다.  "
   ]
  },
  {
   "cell_type": "code",
   "execution_count": 129,
   "metadata": {},
   "outputs": [
    {
     "name": "stdout",
     "output_type": "stream",
     "text": [
      "giyeol\n"
     ]
    }
   ],
   "source": [
    "dic = {'name': 'giyeol', 'age': 21, 'hobby': ['soccer', 'game']}\n",
    "\n",
    "print(dic['name'])"
   ]
  },
  {
   "cell_type": "markdown",
   "metadata": {},
   "source": [
    "### 딕셔너리 관련 함수"
   ]
  },
  {
   "cell_type": "markdown",
   "metadata": {},
   "source": [
    "#### key 리스트 만들기\n",
    "keys() 함수는 딕셔너리의 키만을 모아서 dict_keys 객체를 반환한다.  \n",
    "파이썬 2.7 버전까지는 keys() 함수는 반환 값으로 dict_keys가 아닌 리스트를 반환했지만 리스트를 돌려주면 메모리 낭비가 발생하므로 파이썬 3.0 이후 버전에서는 메모리 낭비를 줄이기 위해 dict_keys, dict_values, dict_items 객체를 반환한다.  \n",
    "반환 값으로 리스트를 만들기 위해서는 list()를 통해 리스트로 형변환을 하면 된다.\n",
    "dict_keys, dict_values, dict_items 객체들은 리스트로 변환하지 않더라도 반복 구문에 사용할 수 있다."
   ]
  },
  {
   "cell_type": "code",
   "execution_count": 135,
   "metadata": {},
   "outputs": [
    {
     "name": "stdout",
     "output_type": "stream",
     "text": [
      "dict_keys(['name', 'age', 'hobby'])\n",
      "['name', 'age', 'hobby']\n",
      "name\n",
      "age\n",
      "hobby\n"
     ]
    }
   ],
   "source": [
    "dic = {'name': 'giyeol', 'age': 21, 'hobby': ['soccer', 'game']}\n",
    "\n",
    "print(dic.keys())\n",
    "print(list(dic.keys()))\n",
    "\n",
    "for i in dic.keys():\n",
    "    print(i)"
   ]
  },
  {
   "cell_type": "markdown",
   "metadata": {},
   "source": [
    "#### value 리스트 만들기"
   ]
  },
  {
   "cell_type": "code",
   "execution_count": 137,
   "metadata": {},
   "outputs": [
    {
     "name": "stdout",
     "output_type": "stream",
     "text": [
      "dict_values(['giyeol', 21, ['soccer', 'game']])\n",
      "['giyeol', 21, ['soccer', 'game']]\n",
      "giyeol\n",
      "21\n",
      "['soccer', 'game']\n"
     ]
    }
   ],
   "source": [
    "dic = {'name': 'giyeol', 'age': 21, 'hobby': ['soccer', 'game']}\n",
    "\n",
    "print(dic.values())\n",
    "print(list(dic.values()))\n",
    "\n",
    "for i in dic.values():\n",
    "    print(i)"
   ]
  },
  {
   "cell_type": "markdown",
   "metadata": {},
   "source": [
    "#### key, value 쌍 얻기\n",
    "items 함수는 key와 value의 쌍을 튜플로 묶은 값을 dict_items 객체로 돌려준다.  "
   ]
  },
  {
   "cell_type": "code",
   "execution_count": 140,
   "metadata": {},
   "outputs": [
    {
     "name": "stdout",
     "output_type": "stream",
     "text": [
      "dict_items([('name', 'giyeol'), ('age', 21), ('hobby', ['soccer', 'game'])])\n",
      "[('name', 'giyeol'), ('age', 21), ('hobby', ['soccer', 'game'])]\n",
      "('name', 'giyeol')\n",
      "('age', 21)\n",
      "('hobby', ['soccer', 'game'])\n"
     ]
    }
   ],
   "source": [
    "dic = {'name': 'giyeol', 'age': 21, 'hobby': ['soccer', 'game']}\n",
    "\n",
    "print(dic.items())\n",
    "print(list(dic.items()))\n",
    "\n",
    "for i in dic.items():\n",
    "    print(i)"
   ]
  },
  {
   "cell_type": "markdown",
   "metadata": {},
   "source": [
    "#### key:value 쌍 모두 지우기\n",
    "clear 함수는 딕셔너리 안의 모든 요소를 삭제한다.  \n",
    "clear 함수는 반환 값이 없다."
   ]
  },
  {
   "cell_type": "code",
   "execution_count": 146,
   "metadata": {},
   "outputs": [
    {
     "name": "stdout",
     "output_type": "stream",
     "text": [
      "{'name': 'giyeol', 'age': 21, 'hobby': ['soccer', 'game']}\n"
     ]
    }
   ],
   "source": [
    "dic = {'name': 'giyeol', 'age': 21, 'hobby': ['soccer', 'game']}\n",
    "\n",
    "print(dic)"
   ]
  },
  {
   "cell_type": "markdown",
   "metadata": {},
   "source": [
    "#### key로 value 얻기\n",
    "get(x) 함수는 x라는 key에 대응되는 value를 반환한다.  \n",
    "get(x) 함수는 딕셔너리의 key 값을 인덱싱하는 것과 동일하다.  \n",
    "다만 딕셔너리의 key 값을 인덱싱 하는 경우 key가 존재하지 않는 경우 오류를 발생시키고, get(x) 함수를 사용하는 경우에는 None을 반환한다."
   ]
  },
  {
   "cell_type": "code",
   "execution_count": 148,
   "metadata": {},
   "outputs": [
    {
     "name": "stdout",
     "output_type": "stream",
     "text": [
      "giyeol\n",
      "None\n"
     ]
    }
   ],
   "source": [
    "dic = {'name': 'giyeol', 'age': 21, 'hobby': ['soccer', 'game']}\n",
    "\n",
    "print(dic.get('name'))\n",
    "print(dic.get('job'))"
   ]
  },
  {
   "cell_type": "markdown",
   "metadata": {},
   "source": [
    "#### 해당 key가 딕셔너리 안에 있는지 조사하기\n",
    "in을 사용하였을 때 key가 딕셔너리 안에 있으면 True, 없으면 False를 반환한다."
   ]
  },
  {
   "cell_type": "code",
   "execution_count": 149,
   "metadata": {},
   "outputs": [
    {
     "name": "stdout",
     "output_type": "stream",
     "text": [
      "True\n",
      "False\n"
     ]
    }
   ],
   "source": [
    "dic = {'name': 'giyeol', 'age': 21, 'hobby': ['soccer', 'game']}\n",
    "\n",
    "print('name' in dic)\n",
    "print('job' in dic)"
   ]
  },
  {
   "cell_type": "markdown",
   "metadata": {},
   "source": [
    "## 불 자료형"
   ]
  },
  {
   "cell_type": "markdown",
   "metadata": {},
   "source": [
    "불(bool) 자료형이란 참과 거짓을 나타내는 자료형이다.  \n",
    "불 자료형은 True, False 2 가지 값만 가질 수 있다.  "
   ]
  },
  {
   "cell_type": "code",
   "execution_count": 150,
   "metadata": {},
   "outputs": [
    {
     "name": "stdout",
     "output_type": "stream",
     "text": [
      "True\n",
      "True\n",
      "False\n"
     ]
    }
   ],
   "source": [
    "print(1==1)\n",
    "print(1<2)\n",
    "print(1>2)"
   ]
  },
  {
   "cell_type": "markdown",
   "metadata": {},
   "source": [
    "### 자료형의 참과 거짓\n",
    "자료형은 참과 거짓을 구분할 수 있다.  \n",
    "문자열, 리스트, 튜플, 딕셔너리에서 값이 있으면 참이고, 비어 있으면 거짓이다.   \n",
    "자료형의 참과 거짓은 반복 구문에서 많이 활용된다.\n",
    "bool() 내장 함수를 사용하면 자료형의 참과 거짓을 확인할 수 있다."
   ]
  },
  {
   "cell_type": "code",
   "execution_count": 152,
   "metadata": {},
   "outputs": [
    {
     "name": "stdout",
     "output_type": "stream",
     "text": [
      "4\n",
      "3\n",
      "2\n",
      "1\n"
     ]
    }
   ],
   "source": [
    "a = [1,2,3,4]\n",
    "while a:\n",
    "    print(a.pop())\n",
    "    "
   ]
  },
  {
   "cell_type": "code",
   "execution_count": 153,
   "metadata": {},
   "outputs": [
    {
     "name": "stdout",
     "output_type": "stream",
     "text": [
      "True\n",
      "False\n"
     ]
    }
   ],
   "source": [
    "print(bool('python'))\n",
    "print(bool(''))"
   ]
  },
  {
   "cell_type": "markdown",
   "metadata": {},
   "source": [
    "## 변수"
   ]
  },
  {
   "cell_type": "markdown",
   "metadata": {},
   "source": [
    "파이썬에서 사용하는 변수는 객체를 가리키는 것이라고도 말할 수 있다.  \n",
    "만약 a=[1,2,3]이라 한다면 [1,2,3] 값을 가지는 리스트 자료형(객체)이 자동으로 메모리에 생성되고 변수 a는 [1,2,3] 리스트가 저장된 메모리의 주소를 가리키게 된다.  \n",
    "id(a) 함수를 사용하면 a가 가리키는 객체의 주소를 반환한다.\n"
   ]
  },
  {
   "cell_type": "code",
   "execution_count": 156,
   "metadata": {},
   "outputs": [
    {
     "name": "stdout",
     "output_type": "stream",
     "text": [
      "1871030807168\n"
     ]
    }
   ],
   "source": [
    "a = [1,2,3]\n",
    "print(id(a))"
   ]
  },
  {
   "cell_type": "markdown",
   "metadata": {},
   "source": [
    "### 리스트 복사\n",
    "리스트를 복사할 때는 변수가 동일한 리스트를 가리키게 복사할 수 있고, 리스트의 값은 동일하지만 가리키는 주소가 다르게 복사할 수 있다."
   ]
  },
  {
   "cell_type": "code",
   "execution_count": 157,
   "metadata": {},
   "outputs": [
    {
     "name": "stdout",
     "output_type": "stream",
     "text": [
      "1871031217408\n",
      "1871031217408\n"
     ]
    }
   ],
   "source": [
    "a = [1,2,3]\n",
    "b = a\n",
    "print(id(a))\n",
    "print(id(b))"
   ]
  },
  {
   "cell_type": "code",
   "execution_count": 159,
   "metadata": {},
   "outputs": [
    {
     "name": "stdout",
     "output_type": "stream",
     "text": [
      "[4, 2, 3]\n",
      "[4, 2, 3]\n"
     ]
    }
   ],
   "source": [
    "a = [1,2,3]\n",
    "b = a\n",
    "a[0] = 4\n",
    "print(a)\n",
    "print(b)"
   ]
  },
  {
   "cell_type": "code",
   "execution_count": 158,
   "metadata": {},
   "outputs": [
    {
     "name": "stdout",
     "output_type": "stream",
     "text": [
      "1871030807168\n",
      "1871030891904\n"
     ]
    }
   ],
   "source": [
    "a = [1,2,3]\n",
    "b = [1,2,3]\n",
    "\n",
    "print(id(a))\n",
    "print(id(b))"
   ]
  },
  {
   "cell_type": "code",
   "execution_count": 162,
   "metadata": {},
   "outputs": [
    {
     "name": "stdout",
     "output_type": "stream",
     "text": [
      "[1, 2, 3]\n",
      "[1, 2, 3]\n",
      "1871030891904\n",
      "1871031176192\n"
     ]
    }
   ],
   "source": [
    "a = [1,2,3]\n",
    "b = a[:]\n",
    "\n",
    "print(a)\n",
    "print(b)\n",
    "print(id(a))\n",
    "print(id(b))"
   ]
  },
  {
   "cell_type": "code",
   "execution_count": 163,
   "metadata": {},
   "outputs": [
    {
     "name": "stdout",
     "output_type": "stream",
     "text": [
      "[1, 2, 3]\n",
      "[1, 2, 3]\n",
      "1871013991808\n",
      "1871018547264\n"
     ]
    }
   ],
   "source": [
    "a = [1,2,3]\n",
    "b = a.copy()\n",
    "\n",
    "print(a)\n",
    "print(b)\n",
    "print(id(a))\n",
    "print(id(b))"
   ]
  },
  {
   "cell_type": "code",
   "execution_count": 164,
   "metadata": {},
   "outputs": [
    {
     "name": "stdout",
     "output_type": "stream",
     "text": [
      "[1, 2, 3]\n",
      "[1, 2, 3]\n",
      "1871030807168\n",
      "1871031235520\n"
     ]
    }
   ],
   "source": [
    "from copy import copy\n",
    "a = [1,2,3]\n",
    "b = copy(a)\n",
    "\n",
    "print(a)\n",
    "print(b)\n",
    "print(id(a))\n",
    "print(id(b))"
   ]
  },
  {
   "cell_type": "markdown",
   "metadata": {},
   "source": [
    "### 변수를 만드는 방법\n",
    "파이썬에서는 튜플을 언패킹(unpacking) 하여 여러 변수에 값을 대입할 수 있다."
   ]
  },
  {
   "cell_type": "code",
   "execution_count": 165,
   "metadata": {},
   "outputs": [
    {
     "name": "stdout",
     "output_type": "stream",
     "text": [
      "python\n",
      "C\n"
     ]
    }
   ],
   "source": [
    "a, b = ('python', 'C')\n",
    "\n",
    "print(a)\n",
    "print(b)"
   ]
  },
  {
   "cell_type": "code",
   "execution_count": 166,
   "metadata": {},
   "outputs": [
    {
     "name": "stdout",
     "output_type": "stream",
     "text": [
      "python\n",
      "C\n"
     ]
    }
   ],
   "source": [
    "a, b = 'python', 'C'\n",
    "\n",
    "print(a)\n",
    "print(b)"
   ]
  },
  {
   "cell_type": "code",
   "execution_count": 167,
   "metadata": {},
   "outputs": [
    {
     "name": "stdout",
     "output_type": "stream",
     "text": [
      "python\n",
      "C\n"
     ]
    }
   ],
   "source": [
    "(a, b) = 'python', 'C'\n",
    "\n",
    "print(a)\n",
    "print(b)"
   ]
  },
  {
   "cell_type": "code",
   "execution_count": 168,
   "metadata": {},
   "outputs": [
    {
     "name": "stdout",
     "output_type": "stream",
     "text": [
      "python\n",
      "C\n"
     ]
    }
   ],
   "source": [
    "(a, b) = ('python', 'C')\n",
    "\n",
    "print(a)\n",
    "print(b)"
   ]
  },
  {
   "cell_type": "code",
   "execution_count": 169,
   "metadata": {},
   "outputs": [
    {
     "name": "stdout",
     "output_type": "stream",
     "text": [
      "python\n",
      "python\n"
     ]
    }
   ],
   "source": [
    "a=b='python'\n",
    "print(a)\n",
    "print(b)"
   ]
  },
  {
   "cell_type": "code",
   "execution_count": 170,
   "metadata": {},
   "outputs": [
    {
     "name": "stdout",
     "output_type": "stream",
     "text": [
      "5\n",
      "3\n"
     ]
    }
   ],
   "source": [
    "a,b=3,5\n",
    "b,a=a,b\n",
    "print(a)\n",
    "print(b)"
   ]
  },
  {
   "cell_type": "markdown",
   "metadata": {},
   "source": [
    "# 추가"
   ]
  },
  {
   "cell_type": "code",
   "execution_count": null,
   "metadata": {},
   "outputs": [],
   "source": [
    "sys.path.append\n",
    "os.path.join"
   ]
  }
 ],
 "metadata": {
  "kernelspec": {
   "display_name": "Python 3",
   "language": "python",
   "name": "python3"
  },
  "language_info": {
   "codemirror_mode": {
    "name": "ipython",
    "version": 3
   },
   "file_extension": ".py",
   "mimetype": "text/x-python",
   "name": "python",
   "nbconvert_exporter": "python",
   "pygments_lexer": "ipython3",
   "version": "3.9.13"
  }
 },
 "nbformat": 4,
 "nbformat_minor": 2
}
