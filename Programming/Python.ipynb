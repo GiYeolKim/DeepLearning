{
 "cells": [
  {
   "cell_type": "markdown",
   "metadata": {},
   "source": [
    "# 자료형"
   ]
  },
  {
   "cell_type": "markdown",
   "metadata": {},
   "source": [
    "## 숫자형\n",
    "숫자형이란 숫자 형태로 이루어진 자료형으로 123 같은 정수, 12.34 같은 실수, 8진수와 16진수 같은 것들이 있다."
   ]
  },
  {
   "cell_type": "markdown",
   "metadata": {},
   "source": [
    "### 정수형"
   ]
  },
  {
   "cell_type": "code",
   "execution_count": 5,
   "metadata": {},
   "outputs": [
    {
     "name": "stdout",
     "output_type": "stream",
     "text": [
      "123\n"
     ]
    }
   ],
   "source": [
    "a = 123\n",
    "print(a)"
   ]
  },
  {
   "cell_type": "markdown",
   "metadata": {},
   "source": [
    "### 실수형"
   ]
  },
  {
   "cell_type": "markdown",
   "metadata": {},
   "source": [
    "아래 방식은 컴퓨터식 지수 표현 방식으로 파이썬에서는 'a = 4.24E10', 'a = 4.24e-10'과 같이 표현한다(e와 E 둘 중 어느 것을 사용하더라도 무방하다). 여기서 'a = 4.24E10'는 4.24*10^10을 의미하고, 'a = 4.24e-10'는 4.24*10^-10을 의미한다."
   ]
  },
  {
   "cell_type": "code",
   "execution_count": 6,
   "metadata": {},
   "outputs": [
    {
     "name": "stdout",
     "output_type": "stream",
     "text": [
      "1.2 42400000000.0 4.24e-10\n"
     ]
    }
   ],
   "source": [
    "a = 1.2\n",
    "b = 4.24E10\n",
    "c = 4.24e-10\n",
    "\n",
    "print(a, b, c)"
   ]
  },
  {
   "cell_type": "markdown",
   "metadata": {},
   "source": [
    "### 8진수와 16진수"
   ]
  },
  {
   "cell_type": "markdown",
   "metadata": {},
   "source": [
    "8진수를 만들기 위해서는 숫자가 0o 또는 0O로 시작하면 된다.\n",
    "16진수를 만들기 위해서는 0x로 시작하면 된다."
   ]
  },
  {
   "cell_type": "code",
   "execution_count": 7,
   "metadata": {},
   "outputs": [
    {
     "name": "stdout",
     "output_type": "stream",
     "text": [
      "127\n",
      "2303\n"
     ]
    }
   ],
   "source": [
    "a = 0o177\n",
    "b = 0x8ff\n",
    "print(a)\n",
    "print(b)"
   ]
  },
  {
   "cell_type": "markdown",
   "metadata": {},
   "source": [
    "### 연산"
   ]
  },
  {
   "cell_type": "markdown",
   "metadata": {},
   "source": [
    "/ 연산자는 나눗셈 연산이 수행되며 부동 소수점 형태로 반환된다.  \n",
    "** 연산자는 x**y 일때 x의 y 제곱 연산을 수행한다.  \n",
    "% 연산자는 나눗셈 후 나머지를 반환한다.  \n",
    "// 연산자는 나눗셈 후 몫을 반환한다.  "
   ]
  },
  {
   "cell_type": "code",
   "execution_count": 9,
   "metadata": {},
   "outputs": [
    {
     "name": "stdout",
     "output_type": "stream",
     "text": [
      "7\n",
      "-1\n",
      "12\n",
      "0.75\n",
      "81\n",
      "3\n",
      "0\n"
     ]
    }
   ],
   "source": [
    "a = 3\n",
    "b = 4\n",
    "\n",
    "print(a+b)\n",
    "print(a-b)\n",
    "print(a*b)\n",
    "print(a/b)\n",
    "print(a**b)\n",
    "print(a%b)\n",
    "print(a//b)"
   ]
  },
  {
   "cell_type": "markdown",
   "metadata": {},
   "source": [
    "### 문자열"
   ]
  },
  {
   "cell_type": "markdown",
   "metadata": {},
   "source": [
    "문자열(string)이란 문자, 단어 등으로 구성된 문자들의 집합을 의미한다.  \n",
    "문자열을 만드는 방법은 총 4가지가 있다.  \n",
    "- 큰따옴표로 양쪽 둘러싸기 - \"Hello World\"\n",
    "- 작은따옴표로 양쪽 둘러싸기 - \"Python is fun\"\n",
    "- 큰따옴표 3개를 연속으로 써서 양쪽 둘러싸기 - \"\"\"Life is good\"\"\"\n",
    "- 작은따옴표 3개를 연속으로 써서 양쪽 둘러싸기 - '''Life is too short'''  \n",
    "문자열을 만들어 주는 주인공은 "
   ]
  },
  {
   "cell_type": "code",
   "execution_count": 1,
   "metadata": {},
   "outputs": [
    {
     "name": "stdout",
     "output_type": "stream",
     "text": [
      "Hellow World\n",
      "Hello World\n",
      "Hello World\n",
      "Hello World\n"
     ]
    }
   ],
   "source": [
    "print('Hellow World')\n",
    "print(\"Hello World\")\n",
    "print('''Hello World''')\n",
    "print(\"\"\"Hello World\"\"\")"
   ]
  },
  {
   "cell_type": "markdown",
   "metadata": {},
   "source": [
    "문자열 안에도 작은따옴표와 큰따옴표가 필요한 경우가 있다.  \n",
    "- 작은따옴표 이루어진 문자열 안에 큰따옴표를 포함하거나 큰따옴표로 이루어진 문자열 안에 작은따옴표를 포함\n",
    "- 백슬래쉬를 사용하여 문자열 안에 작은따옴표 혹은 큰따옴표를 포함"
   ]
  },
  {
   "cell_type": "code",
   "execution_count": 4,
   "metadata": {},
   "outputs": [
    {
     "name": "stdout",
     "output_type": "stream",
     "text": [
      "Hello' World\n",
      "Hello\" World\n",
      "Hello' World\n",
      "Hello\" World\n"
     ]
    }
   ],
   "source": [
    "print(\"Hello' World\")\n",
    "print('Hello\" World')\n",
    "print(\"Hello\\' World\")\n",
    "print(\"Hello\\\" World\")"
   ]
  },
  {
   "cell_type": "markdown",
   "metadata": {},
   "source": [
    "여러 줄인 문자열을 변수에 대입하고 싶을 때는 연속된 작음따옴표 3개 또는 큰따옴표 3개를 사용하면 된다."
   ]
  },
  {
   "cell_type": "code",
   "execution_count": 5,
   "metadata": {},
   "outputs": [
    {
     "name": "stdout",
     "output_type": "stream",
     "text": [
      "\n",
      "Hello,\n",
      "my name is Bob.\n",
      "\n"
     ]
    }
   ],
   "source": [
    "multiline ='''\n",
    "Hello,\n",
    "my name is Bob.\n",
    "'''\n",
    "\n",
    "print(multiline)"
   ]
  },
  {
   "cell_type": "markdown",
   "metadata": {},
   "source": [
    "Escape code : 프로그래밍할 때 사용할 수 있도록 미리 정의해 둔 문자 조합\n",
    "- \\n : 문자열 안에서 줄을 바꿀 때 사용\n",
    "- \\t : 문자열 사이에 탭 간격을 줄 때 사용\n",
    "- \\\\ : 문자 '\\'을 표현할 때 사용\n",
    "- \\' : 작은따옴표를 표현할 때 사용\n",
    "- \\\" : 큰따옴표를 표현할 때 사용 "
   ]
  },
  {
   "cell_type": "markdown",
   "metadata": {},
   "source": [
    "### 문자열 연산하기"
   ]
  },
  {
   "cell_type": "markdown",
   "metadata": {},
   "source": [
    "파이썬에서는 문자열을 더하거나 곱할 수 있다."
   ]
  },
  {
   "cell_type": "markdown",
   "metadata": {},
   "source": [
    "문자열 더해서 연결하기(concatenation)"
   ]
  },
  {
   "cell_type": "code",
   "execution_count": 6,
   "metadata": {},
   "outputs": [
    {
     "name": "stdout",
     "output_type": "stream",
     "text": [
      "HelloWorld\n"
     ]
    }
   ],
   "source": [
    "head = 'Hello'\n",
    "tail = 'World'\n",
    "print(head + tail)"
   ]
  },
  {
   "cell_type": "markdown",
   "metadata": {},
   "source": [
    "문자열 곱하기"
   ]
  },
  {
   "cell_type": "code",
   "execution_count": 7,
   "metadata": {},
   "outputs": [
    {
     "name": "stdout",
     "output_type": "stream",
     "text": [
      "Hello WorldHello World\n"
     ]
    }
   ],
   "source": [
    "a = 'Hello World'\n",
    "print(a*2)"
   ]
  },
  {
   "cell_type": "markdown",
   "metadata": {},
   "source": [
    "문자열 길이 구하기\n",
    "- 파이썬 기본 내장 함수인 len 함수를 사용하면 문자열 길이를 구할 수 있다."
   ]
  },
  {
   "cell_type": "code",
   "execution_count": 8,
   "metadata": {},
   "outputs": [
    {
     "name": "stdout",
     "output_type": "stream",
     "text": [
      "11\n"
     ]
    }
   ],
   "source": [
    "a = \"Hello World\"\n",
    "print(len(a))"
   ]
  },
  {
   "cell_type": "markdown",
   "metadata": {},
   "source": [
    "### 문자열 인덱싱과 슬라이싱"
   ]
  },
  {
   "cell_type": "markdown",
   "metadata": {},
   "source": [
    "인덱싱(indexing)이란 무엇인가를 가리킨다는 의미이다.  \n",
    "파이썬은 0부터 숫자를 센다.  \n",
    "문자열 변수에 [index]를 사용하면 문자열 안의 특정한 값을 뽑아낼 수 있고, 이를 인덱싱이라 한다."
   ]
  },
  {
   "cell_type": "code",
   "execution_count": 13,
   "metadata": {},
   "outputs": [
    {
     "name": "stdout",
     "output_type": "stream",
     "text": [
      "34\n",
      "L\n",
      "n\n",
      "n\n",
      "L\n"
     ]
    }
   ],
   "source": [
    "a = \"Life is too short, you need Python\"\n",
    "\n",
    "print(len(a))\n",
    "print(a[0])\n",
    "print(a[33])\n",
    "print(a[-1])\n",
    "print(a[-34])"
   ]
  },
  {
   "cell_type": "markdown",
   "metadata": {},
   "source": [
    "슬라이싱(slicing)이란 무엇인가를 잘라낸다는 의미이다.  \n",
    "슬라이싱을 통해 문자열에서 원하는 부분을 뽑아낼 수 있다.  \n",
    "슬라이싱을 할 때는 문자열 변수[시작 번호 : 끝 번호]를 지정하면 되는데, 이때 끝 번호에 해당하는 것은 포함하지 않는다.  \n",
    "슬라이싱을 할 때 시작 번호 혹은 끝 번호를 생략하면 각각 문자열의 처음 혹은 끝을 의미한다.  \n",
    "슬라이싱에서도 인덱싱과 마찬가지로 - 기호를 사용할 수 있다."
   ]
  },
  {
   "cell_type": "code",
   "execution_count": 19,
   "metadata": {},
   "outputs": [
    {
     "name": "stdout",
     "output_type": "stream",
     "text": [
      "Life\n",
      "is\n",
      "you need Python\n",
      "Life is too short\n",
      "Life is too short, you need Python\n",
      "you need\n",
      "you need\n"
     ]
    }
   ],
   "source": [
    "a = \"Life is too short, you need Python\"\n",
    "\n",
    "print(a[0:4])\n",
    "print(a[5:7])\n",
    "print(a[19:])\n",
    "print(a[:17])\n",
    "print(a[:])\n",
    "print(a[19:-7])\n",
    "print(a[-15: -7])"
   ]
  },
  {
   "cell_type": "markdown",
   "metadata": {},
   "source": [
    "파이썬에서 문자열의 요솟값은 바꿀 수 있는 값이 아니기 때문에(immutable) 문자열 자료형은 그 요솟값을 변경할 수 없다.  "
   ]
  },
  {
   "cell_type": "code",
   "execution_count": 20,
   "metadata": {},
   "outputs": [
    {
     "ename": "TypeError",
     "evalue": "'str' object does not support item assignment",
     "output_type": "error",
     "traceback": [
      "\u001b[1;31m---------------------------------------------------------------------------\u001b[0m",
      "\u001b[1;31mTypeError\u001b[0m                                 Traceback (most recent call last)",
      "Cell \u001b[1;32mIn[20], line 2\u001b[0m\n\u001b[0;32m      1\u001b[0m a \u001b[38;5;241m=\u001b[39m \u001b[38;5;124m\"\u001b[39m\u001b[38;5;124mPithon\u001b[39m\u001b[38;5;124m\"\u001b[39m\n\u001b[1;32m----> 2\u001b[0m \u001b[43ma\u001b[49m\u001b[43m[\u001b[49m\u001b[38;5;241;43m1\u001b[39;49m\u001b[43m]\u001b[49m \u001b[38;5;241m=\u001b[39m \u001b[38;5;124m'\u001b[39m\u001b[38;5;124my\u001b[39m\u001b[38;5;124m'\u001b[39m\n\u001b[0;32m      3\u001b[0m \u001b[38;5;28mprint\u001b[39m(a)\n",
      "\u001b[1;31mTypeError\u001b[0m: 'str' object does not support item assignment"
     ]
    }
   ],
   "source": [
    "a = \"Pithon\"\n",
    "a[1] = 'y'\n",
    "print(a)"
   ]
  },
  {
   "cell_type": "markdown",
   "metadata": {},
   "source": [
    "### 문자열 포매팅"
   ]
  },
  {
   "cell_type": "markdown",
   "metadata": {},
   "source": [
    "문자열 안의 특정한 값을 바궈야 할 경우가 있을 때 문자열 포매팅을 사용할 수 있다."
   ]
  },
  {
   "cell_type": "markdown",
   "metadata": {},
   "source": [
    "#### 숫자 바로 대입\n",
    "문자열 안에서 숫자를 넣고 싶은 자리에 %d 문자를 넣어 주고, 삽입할 숫자는 가장 뒤에 % 문자 다음에 써 넣는다."
   ]
  },
  {
   "cell_type": "code",
   "execution_count": 23,
   "metadata": {},
   "outputs": [
    {
     "name": "stdout",
     "output_type": "stream",
     "text": [
      "I eat 3 apples.\n"
     ]
    }
   ],
   "source": [
    "a = \"I eat %d apples.\"%3\n",
    "print(a)"
   ]
  },
  {
   "cell_type": "markdown",
   "metadata": {},
   "source": [
    "#### 문자열 바로 대입\n",
    "문자열 안에서 문자열을 넣고 싶은 자리에 %s 문자를 넣어 주고, 삽입할 문자열은 가장 뒤에 % 문자 다음에 써 넣는다."
   ]
  },
  {
   "cell_type": "code",
   "execution_count": 24,
   "metadata": {},
   "outputs": [
    {
     "name": "stdout",
     "output_type": "stream",
     "text": [
      "I eat five apples.\n"
     ]
    }
   ],
   "source": [
    "a = 'I eat %s apples.'%\"five\"\n",
    "\n",
    "print(a)"
   ]
  },
  {
   "cell_type": "markdown",
   "metadata": {},
   "source": [
    "#### 숫자 값을 나타내는 변수로 대입"
   ]
  },
  {
   "cell_type": "code",
   "execution_count": 25,
   "metadata": {},
   "outputs": [
    {
     "name": "stdout",
     "output_type": "stream",
     "text": [
      "I eat 3 apples.\n"
     ]
    }
   ],
   "source": [
    "number = 3\n",
    "a = 'I eat %d apples.'%number\n",
    "\n",
    "print(a)"
   ]
  },
  {
   "cell_type": "markdown",
   "metadata": {},
   "source": [
    "#### 2개 이상의 값 넣기\n",
    "2개 이상의 값을 넣으려면 마지막 % 다음 괄호 안에 콤마로 구분하여 각각의 값을 넣어주면 된다."
   ]
  },
  {
   "cell_type": "code",
   "execution_count": 26,
   "metadata": {},
   "outputs": [
    {
     "name": "stdout",
     "output_type": "stream",
     "text": [
      "I ate 10 apples. So I was sick for three days.\n"
     ]
    }
   ],
   "source": [
    "number = 10\n",
    "day = 'three'\n",
    "a = \"I ate %d apples. So I was sick for %s days.\"%(number, day)\n",
    "\n",
    "print(a)"
   ]
  },
  {
   "cell_type": "markdown",
   "metadata": {},
   "source": [
    "#### 문자열 포맷 코드\n",
    "- %s : 문자열(string)\n",
    "- %c : 문자 1개(character)\n",
    "- %d : 정수(integer)\n",
    "- %f : 부동 소수(floating-point)"
   ]
  },
  {
   "cell_type": "markdown",
   "metadata": {},
   "source": [
    "#### 문자열 포맷의 장점\n",
    "문자열 포맷팅 연산자 %s는 문자열 뿐만 아니라 정수, 부동 소수점 등 어떤 형태의 값이든 변환해 넣을 수 있다."
   ]
  },
  {
   "cell_type": "code",
   "execution_count": 27,
   "metadata": {},
   "outputs": [
    {
     "name": "stdout",
     "output_type": "stream",
     "text": [
      "I have 3 apples. Apple is 120.5 grams.\n"
     ]
    }
   ],
   "source": [
    "a = \"I have %s apples. Apple is %s grams.\"%(3, 120.50)\n",
    "print(a)"
   ]
  },
  {
   "cell_type": "markdown",
   "metadata": {},
   "source": [
    "#### 포맷 코드와 숫자 함께 사용하기\n",
    "%d, %s 등의 포맷 코드는 문자열 안에 어떤 값을 삽입하기 위해 사용한다.  \n",
    "이 밖에도 포맷 코드를 숫자와 함께 사용하면 더 유용하게 사용할 수 있다. "
   ]
  },
  {
   "cell_type": "markdown",
   "metadata": {},
   "source": [
    "##### 정렬과 공백\n",
    "포맷 코드를 정수와 함께 사용하면 전체 길이가 정수만큼인 문자열 공간에서 대입되는 값을 오른쪽 혹은 왼쪽으로 정렬하고 나머지 공간은 공백으로 남겨둔다."
   ]
  },
  {
   "cell_type": "code",
   "execution_count": 35,
   "metadata": {},
   "outputs": [
    {
     "name": "stdout",
     "output_type": "stream",
     "text": [
      "        hi\n",
      "hi        \n",
      "     10000 won\n",
      "10000      won\n"
     ]
    }
   ],
   "source": [
    "a = \"%10s\"%\"hi\"\n",
    "b = \"%-10s\"%'hi'\n",
    "c = \"%10s won\"%'10000'\n",
    "d = \"%-10s won\"%'10000'\n",
    "print(a)\n",
    "print(b)\n",
    "print(c)\n",
    "print(d)"
   ]
  },
  {
   "cell_type": "markdown",
   "metadata": {},
   "source": [
    "##### 소수점 표현하기\n",
    "소수점을 특정 자리 수까지만 표현하고 싶은 경우에는 '.'을 사용하면 된다."
   ]
  },
  {
   "cell_type": "code",
   "execution_count": 50,
   "metadata": {},
   "outputs": [
    {
     "name": "stdout",
     "output_type": "stream",
     "text": [
      "3.1416\n",
      "    3.1416\n",
      "3.1416\n"
     ]
    }
   ],
   "source": [
    "a = \"%0.4f\"%3.141592\n",
    "b = \"%10.4f\"%3.141592\n",
    "c = \"%.4f\"%3.141592\n",
    "\n",
    "print(a)\n",
    "print(b)\n",
    "print(c)"
   ]
  },
  {
   "cell_type": "markdown",
   "metadata": {},
   "source": [
    "#### format 함수를 사용한 포매팅\n",
    "문자열의 format 함수를 사용하면 더 편리하게 문자열 포맷을 지정할 수 있다.  \n",
    "{} 안에 인덱스를 통해 format 함수의 입력값을 지정할 수 있다.  \n",
    "{name} 형태를 사용하는 경우 format 함수에는 반드시 name=value와 가은 형태의 입력값이 있어야만 한다."
   ]
  },
  {
   "cell_type": "code",
   "execution_count": 47,
   "metadata": {},
   "outputs": [
    {
     "name": "stdout",
     "output_type": "stream",
     "text": [
      "I eat 3 apples.\n",
      "I eat three apples.\n",
      "I eat 3 apples.\n",
      "I eat 3 apples in three days.\n",
      "I eat three apples in 3 days.\n",
      "I eat 3 apples in three days.\n"
     ]
    }
   ],
   "source": [
    "number = 3\n",
    "days = \"three\"\n",
    "a = \"I eat {0} apples.\".format(3)\n",
    "b = \"I eat {0} apples.\".format(\"three\")\n",
    "c = \"I eat {0} apples.\".format(number)\n",
    "d = \"I eat {0} apples in {1} days.\".format(number, days)\n",
    "e = \"I eat {1} apples in {0} days.\".format(number, days)\n",
    "f = \"I eat {number} apples in {days} days.\".format(number=3, days='three')\n",
    "\n",
    "print(a)\n",
    "print(b)\n",
    "print(c)\n",
    "print(d)\n",
    "print(e)\n",
    "print(f)"
   ]
  },
  {
   "cell_type": "markdown",
   "metadata": {},
   "source": [
    "포매팅 연산자 같이 format 함수를 통해 왼쪽, 오른쪽 정렬을 할 수 있고, 소수점을 표현할 수 있다."
   ]
  },
  {
   "cell_type": "code",
   "execution_count": 51,
   "metadata": {},
   "outputs": [
    {
     "name": "stdout",
     "output_type": "stream",
     "text": [
      "hi        \n",
      "        hi\n",
      "hi        \n",
      "        hi\n",
      "    hi    \n",
      "3.1416\n",
      "    3.1416\n"
     ]
    }
   ],
   "source": [
    "a = \"{0:<10}\".format('hi')\n",
    "b = \"{0:>10}\".format('hi')\n",
    "c = \"{a:<10}\".format(a='hi')\n",
    "d = \"{a:>10}\".format(a='hi')\n",
    "e = \"{a:^10}\".format(a='hi')\n",
    "f = \"{0:.4f}\".format(3.141592)\n",
    "g = \"{0:10.4f}\".format(3.141592)\n",
    "\n",
    "print(a)\n",
    "print(b)\n",
    "print(c)\n",
    "print(d)\n",
    "print(e)\n",
    "print(f)\n",
    "print(g)"
   ]
  },
  {
   "cell_type": "markdown",
   "metadata": {},
   "source": [
    "#### f 문자열 포매팅\n",
    "문자열 앞에 f 접두사를 붙이면 f 문자열 포매팅 기능을 사용할 수 있다.  \n",
    "f 문자열 포매팅은 변수 값을 생성한 후에 그 값을 참조할 수 있다. "
   ]
  },
  {
   "cell_type": "code",
   "execution_count": 54,
   "metadata": {},
   "outputs": [
    {
     "name": "stdout",
     "output_type": "stream",
     "text": [
      "My name is giyeol, age is 30.\n"
     ]
    }
   ],
   "source": [
    "name = 'giyeol'\n",
    "age = 30\n",
    "\n",
    "print(f'My name is {name}, age is {age}.')"
   ]
  },
  {
   "cell_type": "markdown",
   "metadata": {},
   "source": [
    "f 문자열 포매팅은 표현식을 지원한다.  \n",
    "표현식이란 문자열 안에서 변수와 +,- 와 같은 수식을 함께 사용하는 것을 말한다."
   ]
  },
  {
   "cell_type": "code",
   "execution_count": 55,
   "metadata": {},
   "outputs": [
    {
     "name": "stdout",
     "output_type": "stream",
     "text": [
      "I am 31 years old.\n"
     ]
    }
   ],
   "source": [
    "age = 30\n",
    "print(f'I am {age+1} years old.')"
   ]
  },
  {
   "cell_type": "markdown",
   "metadata": {},
   "source": [
    "f 문자열 포매팅은 딕셔너리도 사용할 수 있다."
   ]
  },
  {
   "cell_type": "code",
   "execution_count": 56,
   "metadata": {},
   "outputs": [
    {
     "name": "stdout",
     "output_type": "stream",
     "text": [
      "My name is giyeol and I'm 30 years old.\n"
     ]
    }
   ],
   "source": [
    "d = {'name' : 'giyeol', 'age': 30}\n",
    "print(f'My name is {d[\"name\"]} and I\\'m {d[\"age\"]} years old.')"
   ]
  },
  {
   "cell_type": "markdown",
   "metadata": {},
   "source": [
    "f 문자열도 정렬을 할 수 있다."
   ]
  },
  {
   "cell_type": "code",
   "execution_count": 62,
   "metadata": {},
   "outputs": [
    {
     "name": "stdout",
     "output_type": "stream",
     "text": [
      "hi        \n",
      "        hi\n"
     ]
    }
   ],
   "source": [
    "print(f'{\"hi\":<10}')\n",
    "print(f'{\"hi\":>10}')"
   ]
  },
  {
   "cell_type": "markdown",
   "metadata": {},
   "source": [
    "### 문자열 관련 함수\n",
    "문자열 자료형은 자체적으로 문자열 내장 함수를 가지고 있다.   \n",
    "이 내장 함수를 사용하려면 문자열 변수 이름 뒤에 '.'을 붙인 다음 함수 이름을 쓰면 된다."
   ]
  },
  {
   "cell_type": "markdown",
   "metadata": {},
   "source": [
    "#### 문자 개수 세기\n",
    "count 함수를 사용ㅇ하면 문자열 중 특정 문자의 개수를 반환한다."
   ]
  },
  {
   "cell_type": "code",
   "execution_count": 67,
   "metadata": {},
   "outputs": [
    {
     "name": "stdout",
     "output_type": "stream",
     "text": [
      "2\n"
     ]
    }
   ],
   "source": [
    "a = 'hobby'\n",
    "print(a.count('b'))"
   ]
  },
  {
   "cell_type": "markdown",
   "metadata": {},
   "source": [
    "#### 위치 알려주기\n",
    "find 함수는 문자열 중 특정 문자가 처음으로 나온 위치를 반환하고, 찾는 문자가 없으면 -1을 반환한다.\n",
    "index 함수는 문자열 중 특정 문자가 맨 처음으로 나온 위치를 반환하고, 찾는 문자가 없으면 오류를 발생시킨다."
   ]
  },
  {
   "cell_type": "code",
   "execution_count": 68,
   "metadata": {},
   "outputs": [
    {
     "name": "stdout",
     "output_type": "stream",
     "text": [
      "14\n",
      "14\n"
     ]
    }
   ],
   "source": [
    "a = 'Python is the best choice'\n",
    "\n",
    "print(a.find('b'))\n",
    "print(a.index('b'))"
   ]
  },
  {
   "cell_type": "markdown",
   "metadata": {},
   "source": [
    "#### 문자열 삽입\n",
    "join 함수는 문자열의 각각의 문자 사이에 특정 문자를 삽입한다.  \n",
    "join 함수는 문자열, 리스트, 튜플에도 사용된다,"
   ]
  },
  {
   "cell_type": "code",
   "execution_count": 72,
   "metadata": {},
   "outputs": [
    {
     "name": "stdout",
     "output_type": "stream",
     "text": [
      "a.b.c.d\n",
      "a.b.c.d\n"
     ]
    }
   ],
   "source": [
    "print(\".\".join('abcd'))\n",
    "print(\".\".join(['a','b','c','d']))"
   ]
  },
  {
   "cell_type": "markdown",
   "metadata": {},
   "source": [
    "#### 소문자 <-> 대문자로 바꾸기\n",
    "upper 함수는 소문자를 대문자로 바꿔준다. \n",
    "lower 함수는 대문자를 소문자로 바꿔준다."
   ]
  },
  {
   "cell_type": "code",
   "execution_count": 73,
   "metadata": {},
   "outputs": [
    {
     "name": "stdout",
     "output_type": "stream",
     "text": [
      "hi\n",
      "HI\n"
     ]
    }
   ],
   "source": [
    "print('HI'.lower())\n",
    "print('hi'.upper())"
   ]
  },
  {
   "cell_type": "markdown",
   "metadata": {},
   "source": [
    "#### 왼쪽 공백 지우기\n",
    "strip 함수는 문자열 양쪽에 있는 한 칸 이상의 연속된 공백을 모두 지운다.\n",
    "lstrip 함수는 문자열 중 가장 왼쪽에 있는 한 칸 이상의 연속된 공백들을 모두 지운다.  \n",
    "rstrip 함수는 문자열 중 가장 오른쪽에 있는 한 칸 이상의 연속된 공백들을 모두 지운다."
   ]
  },
  {
   "cell_type": "code",
   "execution_count": 76,
   "metadata": {},
   "outputs": [
    {
     "name": "stdout",
     "output_type": "stream",
     "text": [
      "hi\n",
      "hi\n",
      "hi\n"
     ]
    }
   ],
   "source": [
    "print('     hi       '.strip())\n",
    "print('    hi'.lstrip())\n",
    "print('hi       '.rstrip())"
   ]
  },
  {
   "cell_type": "markdown",
   "metadata": {},
   "source": [
    "#### 문자열 바꾸기\n",
    "replace 함수는 문자열 안의 특정한 값을 다른 값으로 치환해준다."
   ]
  },
  {
   "cell_type": "code",
   "execution_count": 77,
   "metadata": {},
   "outputs": [
    {
     "name": "stdout",
     "output_type": "stream",
     "text": [
      "jello world\n"
     ]
    }
   ],
   "source": [
    "a = 'hello world'\n",
    "b = a.replace('h', 'j')\n",
    "print(b)"
   ]
  },
  {
   "cell_type": "markdown",
   "metadata": {},
   "source": [
    "#### 문자열 나누기\n",
    "split 함수는 () 안에 아무 값도 넣어주지 않으면 공백(스페이스, 탭, 엔터)를 기준으로 문자열을 나눈다.  \n",
    "만약 () 안에 특정 값이 있을 경우 특정 값을 구분자로 해서 문자열을 나눠주고 특정 값은 결과에 포함되지 않는다."
   ]
  },
  {
   "cell_type": "code",
   "execution_count": 79,
   "metadata": {},
   "outputs": [
    {
     "name": "stdout",
     "output_type": "stream",
     "text": [
      "['Hello', 'World']\n",
      "['Hell', ' W', 'rld']\n"
     ]
    }
   ],
   "source": [
    "a = 'Hello World'\n",
    "print(a.split())\n",
    "print(a.split('o'))"
   ]
  },
  {
   "cell_type": "markdown",
   "metadata": {},
   "source": []
  }
 ],
 "metadata": {
  "kernelspec": {
   "display_name": "Python 3",
   "language": "python",
   "name": "python3"
  },
  "language_info": {
   "codemirror_mode": {
    "name": "ipython",
    "version": 3
   },
   "file_extension": ".py",
   "mimetype": "text/x-python",
   "name": "python",
   "nbconvert_exporter": "python",
   "pygments_lexer": "ipython3",
   "version": "3.9.13"
  }
 },
 "nbformat": 4,
 "nbformat_minor": 2
}
