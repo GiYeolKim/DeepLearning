{
 "cells": [
  {
   "cell_type": "markdown",
   "metadata": {},
   "source": [
    "# 자료형"
   ]
  },
  {
   "cell_type": "markdown",
   "metadata": {},
   "source": [
    "## 숫자형\n",
    "숫자형이란 숫자 형태로 이루어진 자료형으로 123 같은 정수, 12.34 같은 실수, 8진수와 16진수 같은 것들이 있다."
   ]
  },
  {
   "cell_type": "markdown",
   "metadata": {},
   "source": [
    "### 정수형"
   ]
  },
  {
   "cell_type": "code",
   "execution_count": 5,
   "metadata": {},
   "outputs": [
    {
     "name": "stdout",
     "output_type": "stream",
     "text": [
      "123\n"
     ]
    }
   ],
   "source": [
    "a = 123\n",
    "print(a)"
   ]
  },
  {
   "cell_type": "markdown",
   "metadata": {},
   "source": [
    "### 실수형"
   ]
  },
  {
   "cell_type": "markdown",
   "metadata": {},
   "source": [
    "아래 방식은 컴퓨터식 지수 표현 방식으로 파이썬에서는 'a = 4.24E10', 'a = 4.24e-10'과 같이 표현한다(e와 E 둘 중 어느 것을 사용하더라도 무방하다). 여기서 'a = 4.24E10'는 4.24*10^10을 의미하고, 'a = 4.24e-10'는 4.24*10^-10을 의미한다."
   ]
  },
  {
   "cell_type": "code",
   "execution_count": 6,
   "metadata": {},
   "outputs": [
    {
     "name": "stdout",
     "output_type": "stream",
     "text": [
      "1.2 42400000000.0 4.24e-10\n"
     ]
    }
   ],
   "source": [
    "a = 1.2\n",
    "b = 4.24E10\n",
    "c = 4.24e-10\n",
    "\n",
    "print(a, b, c)"
   ]
  },
  {
   "cell_type": "markdown",
   "metadata": {},
   "source": [
    "### 8진수와 16진수"
   ]
  },
  {
   "cell_type": "markdown",
   "metadata": {},
   "source": [
    "8진수를 만들기 위해서는 숫자가 0o 또는 0O로 시작하면 된다.\n",
    "16진수를 만들기 위해서는 0x로 시작하면 된다."
   ]
  },
  {
   "cell_type": "code",
   "execution_count": 7,
   "metadata": {},
   "outputs": [
    {
     "name": "stdout",
     "output_type": "stream",
     "text": [
      "127\n",
      "2303\n"
     ]
    }
   ],
   "source": [
    "a = 0o177\n",
    "b = 0x8ff\n",
    "print(a)\n",
    "print(b)"
   ]
  },
  {
   "cell_type": "markdown",
   "metadata": {},
   "source": [
    "### 연산"
   ]
  },
  {
   "cell_type": "markdown",
   "metadata": {},
   "source": [
    "/ 연산자는 나눗셈 연산이 수행되며 부동 소수점 형태로 반환된다.  \n",
    "** 연산자는 x**y 일때 x의 y 제곱 연산을 수행한다.  \n",
    "% 연산자는 나눗셈 후 나머지를 반환한다.  \n",
    "// 연산자는 나눗셈 후 몫을 반환한다.  "
   ]
  },
  {
   "cell_type": "code",
   "execution_count": 9,
   "metadata": {},
   "outputs": [
    {
     "name": "stdout",
     "output_type": "stream",
     "text": [
      "7\n",
      "-1\n",
      "12\n",
      "0.75\n",
      "81\n",
      "3\n",
      "0\n"
     ]
    }
   ],
   "source": [
    "a = 3\n",
    "b = 4\n",
    "\n",
    "print(a+b)\n",
    "print(a-b)\n",
    "print(a*b)\n",
    "print(a/b)\n",
    "print(a**b)\n",
    "print(a%b)\n",
    "print(a//b)"
   ]
  },
  {
   "cell_type": "markdown",
   "metadata": {},
   "source": [
    "### 문자열"
   ]
  },
  {
   "cell_type": "markdown",
   "metadata": {},
   "source": [
    "문자열(string)이란 문자, 단어 등으로 구성된 문자들의 집합을 의미한다.  \n",
    "문자열을 만드는 방법은 총 4가지가 있다.  \n",
    "- 큰따옴표로 양쪽 둘러싸기 - \"Hello World\"\n",
    "- 작은따옴표로 양쪽 둘러싸기 - \"Python is fun\"\n",
    "- 큰따옴표 3개를 연속으로 써서 양쪽 둘러싸기 - \"\"\"Life is good\"\"\"\n",
    "- 작은따옴표 3개를 연속으로 써서 양쪽 둘러싸기 - '''Life is too short'''  \n",
    "문자열을 만들어 주는 주인공은 "
   ]
  },
  {
   "cell_type": "code",
   "execution_count": null,
   "metadata": {},
   "outputs": [],
   "source": []
  },
  {
   "cell_type": "code",
   "execution_count": null,
   "metadata": {},
   "outputs": [],
   "source": []
  }
 ],
 "metadata": {
  "kernelspec": {
   "display_name": "Python 3",
   "language": "python",
   "name": "python3"
  },
  "language_info": {
   "codemirror_mode": {
    "name": "ipython",
    "version": 3
   },
   "file_extension": ".py",
   "mimetype": "text/x-python",
   "name": "python",
   "nbconvert_exporter": "python",
   "pygments_lexer": "ipython3",
   "version": "3.9.13"
  }
 },
 "nbformat": 4,
 "nbformat_minor": 2
}
